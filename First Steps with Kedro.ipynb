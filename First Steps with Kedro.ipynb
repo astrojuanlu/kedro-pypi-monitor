{
 "cells": [
  {
   "cell_type": "markdown",
   "metadata": {
    "application/vnd.databricks.v1+cell": {
     "cellMetadata": {
      "byteLimit": 2048000,
      "rowLimit": 10000
     },
     "inputWidgets": {},
     "nuid": "f44b92b1-640b-4ee4-8dd8-2041f9438a8e",
     "showTitle": false,
     "title": ""
    },
    "editable": true,
    "slideshow": {
     "slide_type": ""
    },
    "tags": []
   },
   "source": [
    "# First Steps with Kedro\n",
    "\n",
    "<img src=\"static/kedro-horizontal-color-on-light.png\" alt=\"Kedro\" width=400 />"
   ]
  },
  {
   "cell_type": "markdown",
   "metadata": {
    "application/vnd.databricks.v1+cell": {
     "cellMetadata": {},
     "inputWidgets": {},
     "nuid": "fe4651d9-a323-4e1d-8ac2-65ade4cde293",
     "showTitle": false,
     "title": ""
    }
   },
   "source": [
    "First, let's install `uv` (a super fast `pip` replacement written in Rust) and our dependencies:"
   ]
  },
  {
   "cell_type": "code",
   "execution_count": 1,
   "metadata": {
    "application/vnd.databricks.v1+cell": {
     "cellMetadata": {
      "byteLimit": 2048000,
      "rowLimit": 10000
     },
     "inputWidgets": {},
     "nuid": "4085138c-b95c-479a-b64d-f9787958f8a6",
     "showTitle": false,
     "title": ""
    }
   },
   "outputs": [
    {
     "name": "stdout",
     "output_type": "stream",
     "text": [
      "Requirement already satisfied: uv in ./.venv/lib/python3.11/site-packages (0.2.30)\n",
      "Note: you may need to restart the kernel to use updated packages.\n"
     ]
    }
   ],
   "source": [
    "%pip install uv"
   ]
  },
  {
   "cell_type": "code",
   "execution_count": 2,
   "metadata": {
    "application/vnd.databricks.v1+cell": {
     "cellMetadata": {
      "byteLimit": 2048000,
      "rowLimit": 10000
     },
     "inputWidgets": {},
     "nuid": "10f203d6-6056-4a26-8ca3-62420c88e9c4",
     "showTitle": false,
     "title": ""
    }
   },
   "outputs": [
    {
     "name": "stdout",
     "output_type": "stream",
     "text": [
      "\u001b[2mAudited \u001b[1m87 packages\u001b[0m \u001b[2min 54ms\u001b[0m\u001b[0m\n"
     ]
    }
   ],
   "source": [
    "!uv pip install -r requirements.txt"
   ]
  },
  {
   "cell_type": "code",
   "execution_count": 3,
   "metadata": {
    "application/vnd.databricks.v1+cell": {
     "cellMetadata": {
      "byteLimit": 2048000,
      "rowLimit": 10000
     },
     "inputWidgets": {},
     "nuid": "8b58da34-93f3-47ce-b8ef-d614475fa5f9",
     "showTitle": false,
     "title": ""
    }
   },
   "outputs": [
    {
     "data": {
      "text/plain": [
       "'3.11.9 (main, Apr  2 2024, 08:25:04) [Clang 15.0.0 (clang-1500.3.9.4)]'"
      ]
     },
     "execution_count": 3,
     "metadata": {},
     "output_type": "execute_result"
    }
   ],
   "source": [
    "import sys\n",
    "sys.version"
   ]
  },
  {
   "cell_type": "markdown",
   "metadata": {
    "application/vnd.databricks.v1+cell": {
     "cellMetadata": {
      "byteLimit": 2048000,
      "rowLimit": 10000
     },
     "inputWidgets": {},
     "nuid": "1b4e024a-4578-4fd3-b71b-4f90c3e3c8b1",
     "showTitle": false,
     "title": ""
    }
   },
   "source": [
    "## An example with the PyPI stats dataset\n",
    "\n",
    "https://pypi.org/help/#statistics\n",
    "\n",
    "> You can analyze PyPI project/package metadata and download usage statistics via our public dataset on Google BigQuery.\n",
    "\n",
    "https://packaging.python.org/en/latest/guides/analyzing-pypi-package-downloads/\n",
    "\n",
    "The dataset can be found at https://console.cloud.google.com/bigquery?p=bigquery-public-data&d=pypi&page=dataset"
   ]
  },
  {
   "cell_type": "markdown",
   "metadata": {},
   "source": [
    "First, make sure credentials are in place:"
   ]
  },
  {
   "cell_type": "code",
   "execution_count": 4,
   "metadata": {},
   "outputs": [],
   "source": [
    "import os\n",
    "import pathlib\n",
    "\n",
    "if not os.getenv(\"GOOGLE_APPLICATION_CREDENTIALS\") or not pathlib.Path(os.environ[\"GOOGLE_APPLICATION_CREDENTIALS\"]).exists():\n",
    "    os.environ[\"GOOGLE_APPLICATION_CREDENTIALS\"] = \"kedro-pypi-stats-xxx.json\""
   ]
  },
  {
   "cell_type": "markdown",
   "metadata": {},
   "source": [
    "Then, check that the BigQuery client is properly authenticated:"
   ]
  },
  {
   "cell_type": "code",
   "execution_count": 5,
   "metadata": {
    "application/vnd.databricks.v1+cell": {
     "cellMetadata": {
      "byteLimit": 2048000,
      "implicitDf": true,
      "rowLimit": 10000
     },
     "inputWidgets": {},
     "nuid": "a95397bb-0381-42ca-8755-a295bd0c78e0",
     "showTitle": false,
     "title": ""
    }
   },
   "outputs": [
    {
     "name": "stdout",
     "output_type": "stream",
     "text": [
      "27007 downloads\n"
     ]
    }
   ],
   "source": [
    "from google.cloud import bigquery\n",
    "\n",
    "client = bigquery.Client()\n",
    "\n",
    "query_job = client.query(\"\"\"\n",
    "SELECT COUNT(*) AS num_downloads\n",
    "FROM `bigquery-public-data.pypi.file_downloads`\n",
    "WHERE file.project = 'kedro'\n",
    "  -- Only query the last day of history\n",
    "  AND DATE(timestamp)\n",
    "    BETWEEN DATE_SUB(CURRENT_DATE(), INTERVAL 1 DAY)\n",
    "    AND CURRENT_DATE()\"\"\")\n",
    "\n",
    "results = query_job.result()  # Waits for job to complete.\n",
    "for row in results:\n",
    "    print(\"{} downloads\".format(row.num_downloads))"
   ]
  },
  {
   "cell_type": "markdown",
   "metadata": {
    "application/vnd.databricks.v1+cell": {
     "cellMetadata": {
      "byteLimit": 2048000,
      "rowLimit": 10000
     },
     "inputWidgets": {},
     "nuid": "40a586fc-ce16-4c59-9460-e922ecaf8354",
     "showTitle": false,
     "title": ""
    }
   },
   "source": [
    "## The `DataCatalog`\n",
    "\n",
    "Kedro’s [Data Catalog](https://docs.kedro.org/en/latest/data/) is a registry of all data sources available for use by the project. It offers a separate place to declare details of the datasets your projects use. Kedro provides built-in datasets for different file types and file systems so you don’t have to write any of the logic for reading or writing data.\n",
    "\n",
    "Kedro offers a range of datasets, including CSV, Excel, Parquet, Feather, HDF5, JSON, Pickle, SQL Tables, SQL Queries, Spark DataFrames, and more. They are supported with the APIs of pandas, spark, networkx, matplotlib, yaml, and beyond. It relies on fsspec to read and save data from a variety of data stores including local file systems, network file systems, cloud object stores, and Hadoop. You can pass arguments in to load and save operations, and use versioning and credentials for data access.\n",
    "\n",
    "To start using the Data Catalog, create an instance of the `DataCatalog` class with a dictionary configuration as follows:"
   ]
  },
  {
   "cell_type": "code",
   "execution_count": 6,
   "metadata": {
    "application/vnd.databricks.v1+cell": {
     "cellMetadata": {
      "byteLimit": 2048000,
      "rowLimit": 10000
     },
     "inputWidgets": {},
     "nuid": "a6a1cc5d-60c7-411f-84c5-01047f5e978c",
     "showTitle": false,
     "title": ""
    }
   },
   "outputs": [],
   "source": [
    "import logging\n",
    "\n",
    "logging.getLogger().setLevel(logging.INFO)"
   ]
  },
  {
   "cell_type": "code",
   "execution_count": 7,
   "metadata": {
    "application/vnd.databricks.v1+cell": {
     "cellMetadata": {
      "byteLimit": 2048000,
      "rowLimit": 10000
     },
     "inputWidgets": {},
     "nuid": "fd304399-077e-4fe8-88c1-70983bbc57ce",
     "showTitle": false,
     "title": ""
    }
   },
   "outputs": [],
   "source": [
    "from kedro.io import DataCatalog"
   ]
  },
  {
   "cell_type": "code",
   "execution_count": 8,
   "metadata": {
    "application/vnd.databricks.v1+cell": {
     "cellMetadata": {
      "byteLimit": 2048000,
      "rowLimit": 10000
     },
     "inputWidgets": {},
     "nuid": "d61c1cf4-f385-4247-83c2-55e13a5d2a48",
     "showTitle": false,
     "title": ""
    }
   },
   "outputs": [],
   "source": [
    "catalog = DataCatalog.from_config(\n",
    "    {\n",
    "        \"pypi_kedro_demo\": {\n",
    "            \"type\": \"polars.EagerPolarsDataset\",\n",
    "            \"file_format\": \"parquet\",\n",
    "            \"filepath\": \"data/00_demo/pypi_kedro_demo.pq\",\n",
    "        }\n",
    "    }\n",
    ")"
   ]
  },
  {
   "cell_type": "markdown",
   "metadata": {
    "application/vnd.databricks.v1+cell": {
     "cellMetadata": {
      "byteLimit": 2048000,
      "rowLimit": 10000
     },
     "inputWidgets": {},
     "nuid": "241709ef-8951-491e-9365-a561126b3095",
     "showTitle": false,
     "title": ""
    }
   },
   "source": [
    "Each entry in the dictionary represents a **dataset**, and each dataset has a **type** as well as some extra properties. Datasets are Python classes that take care of all the I/O needs in Kedro. In this case, we're using `kedro_datasets.polars.EagerPolarsDataset`, you can read [its full documentation](https://docs.kedro.org/projects/kedro-datasets/en/kedro-datasets-4.0.0/api/kedro_datasets.polars.EagerPolarsDataset.html) online.\n",
    "\n",
    "After the catalog is created, `catalog.list()` will yield a list of the available dataset names, which you can load using the `catalog.load(<dataset_name>)` method:"
   ]
  },
  {
   "cell_type": "code",
   "execution_count": 9,
   "metadata": {
    "application/vnd.databricks.v1+cell": {
     "cellMetadata": {
      "byteLimit": 2048000,
      "rowLimit": 10000
     },
     "inputWidgets": {},
     "nuid": "4571dc9f-1e89-4fb0-9488-48c730526612",
     "showTitle": false,
     "title": ""
    }
   },
   "outputs": [
    {
     "data": {
      "text/plain": [
       "['pypi_kedro_demo']"
      ]
     },
     "execution_count": 9,
     "metadata": {},
     "output_type": "execute_result"
    }
   ],
   "source": [
    "catalog.list()"
   ]
  },
  {
   "cell_type": "code",
   "execution_count": 10,
   "metadata": {},
   "outputs": [],
   "source": [
    "import warnings\n",
    "\n",
    "warnings.filterwarnings(\"ignore\")"
   ]
  },
  {
   "cell_type": "code",
   "execution_count": 11,
   "metadata": {
    "application/vnd.databricks.v1+cell": {
     "cellMetadata": {
      "byteLimit": 2048000,
      "rowLimit": 10000
     },
     "inputWidgets": {},
     "nuid": "7dce890f-60be-4c01-bee7-b4268f562b9e",
     "showTitle": false,
     "title": ""
    }
   },
   "outputs": [],
   "source": [
    "pypi_kedro_demo = catalog.load(\"pypi_kedro_demo\")"
   ]
  },
  {
   "cell_type": "code",
   "execution_count": 12,
   "metadata": {
    "application/vnd.databricks.v1+cell": {
     "cellMetadata": {
      "byteLimit": 2048000,
      "rowLimit": 10000
     },
     "inputWidgets": {},
     "nuid": "9a5b9561-c64f-4419-91a5-c731d78667a8",
     "showTitle": false,
     "title": ""
    }
   },
   "outputs": [
    {
     "data": {
      "text/plain": [
       "polars.dataframe.frame.DataFrame"
      ]
     },
     "execution_count": 12,
     "metadata": {},
     "output_type": "execute_result"
    }
   ],
   "source": [
    "type(pypi_kedro_demo)"
   ]
  },
  {
   "cell_type": "code",
   "execution_count": 13,
   "metadata": {
    "application/vnd.databricks.v1+cell": {
     "cellMetadata": {
      "byteLimit": 2048000,
      "rowLimit": 10000
     },
     "inputWidgets": {},
     "nuid": "5a501aff-2227-4f19-b914-2d1272bf95aa",
     "showTitle": false,
     "title": ""
    }
   },
   "outputs": [
    {
     "data": {
      "text/html": [
       "<div><style>\n",
       ".dataframe > thead > tr,\n",
       ".dataframe > tbody > tr {\n",
       "  text-align: right;\n",
       "  white-space: pre-wrap;\n",
       "}\n",
       "</style>\n",
       "<small>shape: (5, 12)</small><table border=\"1\" class=\"dataframe\"><thead><tr><th>timestamp</th><th>project_name</th><th>version</th><th>major_version</th><th>type</th><th>installer</th><th>python</th><th>major_python</th><th>implementation</th><th>distro</th><th>system</th><th>cpu</th></tr><tr><td>datetime[μs, UTC]</td><td>str</td><td>str</td><td>str</td><td>str</td><td>struct[2]</td><td>str</td><td>str</td><td>struct[2]</td><td>struct[4]</td><td>struct[2]</td><td>str</td></tr></thead><tbody><tr><td>2024-07-01 23:32:58 UTC</td><td>&quot;kedro&quot;</td><td>&quot;0.17.7&quot;</td><td>&quot;0.17&quot;</td><td>&quot;bdist_wheel&quot;</td><td>{&quot;pip&quot;,&quot;22.0.3&quot;}</td><td>&quot;3.8.5&quot;</td><td>&quot;3.8&quot;</td><td>{&quot;CPython&quot;,&quot;3.8.5&quot;}</td><td>{&quot;Amazon Linux&quot;,&quot;2&quot;,null,{&quot;glibc&quot;,&quot;2.26&quot;}}</td><td>{&quot;Linux&quot;,&quot;4.14.262-200.489.amzn2.x86_64&quot;}</td><td>&quot;x86_64&quot;</td></tr><tr><td>2024-07-01 23:33:01 UTC</td><td>&quot;kedro&quot;</td><td>&quot;0.17.7&quot;</td><td>&quot;0.17&quot;</td><td>&quot;bdist_wheel&quot;</td><td>{&quot;pip&quot;,&quot;22.0.3&quot;}</td><td>&quot;3.8.5&quot;</td><td>&quot;3.8&quot;</td><td>{&quot;CPython&quot;,&quot;3.8.5&quot;}</td><td>{&quot;Amazon Linux&quot;,&quot;2&quot;,null,{&quot;glibc&quot;,&quot;2.26&quot;}}</td><td>{&quot;Linux&quot;,&quot;4.14.262-200.489.amzn2.x86_64&quot;}</td><td>&quot;x86_64&quot;</td></tr><tr><td>2024-07-01 23:30:20 UTC</td><td>&quot;kedro&quot;</td><td>&quot;0.17.7&quot;</td><td>&quot;0.17&quot;</td><td>&quot;bdist_wheel&quot;</td><td>{&quot;pip&quot;,&quot;22.0.3&quot;}</td><td>&quot;3.8.5&quot;</td><td>&quot;3.8&quot;</td><td>{&quot;CPython&quot;,&quot;3.8.5&quot;}</td><td>{&quot;Amazon Linux&quot;,&quot;2&quot;,null,{&quot;glibc&quot;,&quot;2.26&quot;}}</td><td>{&quot;Linux&quot;,&quot;4.14.262-200.489.amzn2.x86_64&quot;}</td><td>&quot;x86_64&quot;</td></tr><tr><td>2024-07-01 23:33:48 UTC</td><td>&quot;kedro&quot;</td><td>&quot;0.17.7&quot;</td><td>&quot;0.17&quot;</td><td>&quot;bdist_wheel&quot;</td><td>{&quot;pip&quot;,&quot;22.0.3&quot;}</td><td>&quot;3.8.5&quot;</td><td>&quot;3.8&quot;</td><td>{&quot;CPython&quot;,&quot;3.8.5&quot;}</td><td>{&quot;Amazon Linux&quot;,&quot;2&quot;,null,{&quot;glibc&quot;,&quot;2.26&quot;}}</td><td>{&quot;Linux&quot;,&quot;4.14.262-200.489.amzn2.x86_64&quot;}</td><td>&quot;x86_64&quot;</td></tr><tr><td>2024-07-01 23:21:22 UTC</td><td>&quot;kedro&quot;</td><td>&quot;0.18.0&quot;</td><td>&quot;0.18&quot;</td><td>&quot;bdist_wheel&quot;</td><td>{&quot;pip&quot;,&quot;24.1.1&quot;}</td><td>&quot;3.8.15&quot;</td><td>&quot;3.8&quot;</td><td>{&quot;CPython&quot;,&quot;3.8.15&quot;}</td><td>{&quot;Debian GNU/Linux&quot;,&quot;10&quot;,&quot;buster&quot;,{&quot;glibc&quot;,&quot;2.28&quot;}}</td><td>{&quot;Linux&quot;,&quot;5.10.0-0.deb10.16-amd64&quot;}</td><td>&quot;x86_64&quot;</td></tr></tbody></table></div>"
      ],
      "text/plain": [
       "shape: (5, 12)\n",
       "┌────────────┬────────────┬─────────┬────────────┬───┬────────────┬───────────┬───────────┬────────┐\n",
       "│ timestamp  ┆ project_na ┆ version ┆ major_vers ┆ … ┆ implementa ┆ distro    ┆ system    ┆ cpu    │\n",
       "│ ---        ┆ me         ┆ ---     ┆ ion        ┆   ┆ tion       ┆ ---       ┆ ---       ┆ ---    │\n",
       "│ datetime[μ ┆ ---        ┆ str     ┆ ---        ┆   ┆ ---        ┆ struct[4] ┆ struct[2] ┆ str    │\n",
       "│ s, UTC]    ┆ str        ┆         ┆ str        ┆   ┆ struct[2]  ┆           ┆           ┆        │\n",
       "╞════════════╪════════════╪═════════╪════════════╪═══╪════════════╪═══════════╪═══════════╪════════╡\n",
       "│ 2024-07-01 ┆ kedro      ┆ 0.17.7  ┆ 0.17       ┆ … ┆ {\"CPython\" ┆ {\"Amazon  ┆ {\"Linux\", ┆ x86_64 │\n",
       "│ 23:32:58   ┆            ┆         ┆            ┆   ┆ ,\"3.8.5\"}  ┆ Linux\",\"2 ┆ \"4.14.262 ┆        │\n",
       "│ UTC        ┆            ┆         ┆            ┆   ┆            ┆ \",null,{\" ┆ -200.489. ┆        │\n",
       "│            ┆            ┆         ┆            ┆   ┆            ┆ gli…      ┆ amz…      ┆        │\n",
       "│ 2024-07-01 ┆ kedro      ┆ 0.17.7  ┆ 0.17       ┆ … ┆ {\"CPython\" ┆ {\"Amazon  ┆ {\"Linux\", ┆ x86_64 │\n",
       "│ 23:33:01   ┆            ┆         ┆            ┆   ┆ ,\"3.8.5\"}  ┆ Linux\",\"2 ┆ \"4.14.262 ┆        │\n",
       "│ UTC        ┆            ┆         ┆            ┆   ┆            ┆ \",null,{\" ┆ -200.489. ┆        │\n",
       "│            ┆            ┆         ┆            ┆   ┆            ┆ gli…      ┆ amz…      ┆        │\n",
       "│ 2024-07-01 ┆ kedro      ┆ 0.17.7  ┆ 0.17       ┆ … ┆ {\"CPython\" ┆ {\"Amazon  ┆ {\"Linux\", ┆ x86_64 │\n",
       "│ 23:30:20   ┆            ┆         ┆            ┆   ┆ ,\"3.8.5\"}  ┆ Linux\",\"2 ┆ \"4.14.262 ┆        │\n",
       "│ UTC        ┆            ┆         ┆            ┆   ┆            ┆ \",null,{\" ┆ -200.489. ┆        │\n",
       "│            ┆            ┆         ┆            ┆   ┆            ┆ gli…      ┆ amz…      ┆        │\n",
       "│ 2024-07-01 ┆ kedro      ┆ 0.17.7  ┆ 0.17       ┆ … ┆ {\"CPython\" ┆ {\"Amazon  ┆ {\"Linux\", ┆ x86_64 │\n",
       "│ 23:33:48   ┆            ┆         ┆            ┆   ┆ ,\"3.8.5\"}  ┆ Linux\",\"2 ┆ \"4.14.262 ┆        │\n",
       "│ UTC        ┆            ┆         ┆            ┆   ┆            ┆ \",null,{\" ┆ -200.489. ┆        │\n",
       "│            ┆            ┆         ┆            ┆   ┆            ┆ gli…      ┆ amz…      ┆        │\n",
       "│ 2024-07-01 ┆ kedro      ┆ 0.18.0  ┆ 0.18       ┆ … ┆ {\"CPython\" ┆ {\"Debian  ┆ {\"Linux\", ┆ x86_64 │\n",
       "│ 23:21:22   ┆            ┆         ┆            ┆   ┆ ,\"3.8.15\"} ┆ GNU/Linux ┆ \"5.10.0-0 ┆        │\n",
       "│ UTC        ┆            ┆         ┆            ┆   ┆            ┆ \",\"10\",\"b ┆ .deb10.16 ┆        │\n",
       "│            ┆            ┆         ┆            ┆   ┆            ┆ ust…      ┆ -am…      ┆        │\n",
       "└────────────┴────────────┴─────────┴────────────┴───┴────────────┴───────────┴───────────┴────────┘"
      ]
     },
     "execution_count": 13,
     "metadata": {},
     "output_type": "execute_result"
    }
   ],
   "source": [
    "pypi_kedro_demo.head()"
   ]
  },
  {
   "cell_type": "markdown",
   "metadata": {
    "application/vnd.databricks.v1+cell": {
     "cellMetadata": {
      "byteLimit": 2048000,
      "rowLimit": 10000
     },
     "inputWidgets": {},
     "nuid": "dd0a517e-50cc-42f4-8278-8a8c31f8d2da",
     "showTitle": false,
     "title": ""
    }
   },
   "source": [
    "## The `OmegaConfigLoader`\n",
    "\n",
    "Instead of creating the Data Catalog by hand like this, Kedro usually stores configuration in YAML files. To load them, Kedro offers a [configuration loader](https://docs.kedro.org/en/latest/configuration/configuration_basics.html) based on the [Omegaconf](https://omegaconf.readthedocs.io/) library called the `OmegaConfigLoader`. This adds several interesting features, such as\n",
    "\n",
    "- Consolidating different configuration files into one\n",
    "- Substitution, templating\n",
    "- [Resolvers](https://omegaconf.readthedocs.io/en/2.3_branch/custom_resolvers.html)\n",
    "- And [much more](https://docs.kedro.org/en/latest/configuration/advanced_configuration.html)\n",
    "\n",
    "To start using it, first dump the catalog configuration to a `catalog.yml` file, and then use `OmegaConfigLoader` as follows:"
   ]
  },
  {
   "cell_type": "code",
   "execution_count": 14,
   "metadata": {
    "application/vnd.databricks.v1+cell": {
     "cellMetadata": {
      "byteLimit": 2048000,
      "rowLimit": 10000
     },
     "inputWidgets": {},
     "nuid": "771df6d0-a259-44c1-ab0a-6f8aaa0cb631",
     "showTitle": false,
     "title": ""
    }
   },
   "outputs": [
    {
     "name": "stdout",
     "output_type": "stream",
     "text": [
      "Overwriting catalog.yml\n"
     ]
    }
   ],
   "source": [
    "%%writefile catalog.yml\n",
    "pypi_kedro_demo:\n",
    "  type: polars.EagerPolarsDataset\n",
    "  file_format: parquet\n",
    "  filepath: data/00_demo/pypi_kedro_demo.pq"
   ]
  },
  {
   "cell_type": "code",
   "execution_count": 15,
   "metadata": {
    "application/vnd.databricks.v1+cell": {
     "cellMetadata": {
      "byteLimit": 2048000,
      "rowLimit": 10000
     },
     "inputWidgets": {},
     "nuid": "dcb2acde-31de-4886-ac60-3bb5f0546fb7",
     "showTitle": false,
     "title": ""
    }
   },
   "outputs": [],
   "source": [
    "from kedro.config import OmegaConfigLoader\n",
    "\n",
    "config_loader = OmegaConfigLoader(\n",
    "    conf_source=\".\",  # Directory where configuration files are located\n",
    "    config_patterns={\"catalog\": [\"catalog.yml\"]},  # To avoid conflict with catalogs in conf/ for now\n",
    ")"
   ]
  },
  {
   "cell_type": "code",
   "execution_count": 16,
   "metadata": {
    "application/vnd.databricks.v1+cell": {
     "cellMetadata": {
      "byteLimit": 2048000,
      "rowLimit": 10000
     },
     "inputWidgets": {},
     "nuid": "433dca34-8072-47bb-956b-1b12353ddb33",
     "showTitle": false,
     "title": ""
    }
   },
   "outputs": [
    {
     "data": {
      "text/plain": [
       "{'pypi_kedro_demo': {'type': 'polars.EagerPolarsDataset',\n",
       "  'file_format': 'parquet',\n",
       "  'filepath': 'data/00_demo/pypi_kedro_demo.pq'}}"
      ]
     },
     "execution_count": 16,
     "metadata": {},
     "output_type": "execute_result"
    }
   ],
   "source": [
    "catalog_config = config_loader.get(\"catalog\")\n",
    "catalog_config"
   ]
  },
  {
   "cell_type": "markdown",
   "metadata": {
    "application/vnd.databricks.v1+cell": {
     "cellMetadata": {
      "byteLimit": 2048000,
      "rowLimit": 10000
     },
     "inputWidgets": {},
     "nuid": "1a8d3fca-9ecc-4aa5-b678-6da1e978970b",
     "showTitle": false,
     "title": ""
    }
   },
   "source": [
    "As you can see, `config_loader.get(\"catalog\")` gets you the same dictionary we crafted by hand earlier.\n",
    "\n",
    "However, hardcoding the local data path like that seems like an invitation to trouble. Let's declare a variable `_local_data` inside the YAML file using Omegaconf syntax and load the catalog config again:"
   ]
  },
  {
   "cell_type": "code",
   "execution_count": 17,
   "metadata": {
    "application/vnd.databricks.v1+cell": {
     "cellMetadata": {
      "byteLimit": 2048000,
      "rowLimit": 10000
     },
     "inputWidgets": {},
     "nuid": "cfeeadc3-a140-4237-a8a0-78cdb821892d",
     "showTitle": false,
     "title": ""
    }
   },
   "outputs": [
    {
     "name": "stdout",
     "output_type": "stream",
     "text": [
      "Overwriting catalog.yml\n"
     ]
    }
   ],
   "source": [
    "%%writefile catalog.yml\n",
    "_local_data: data\n",
    "\n",
    "pypi_kedro_demo:\n",
    "  type: polars.EagerPolarsDataset\n",
    "  file_format: parquet\n",
    "  filepath: ${_local_data}/00_demo/pypi_kedro_demo.pq"
   ]
  },
  {
   "cell_type": "code",
   "execution_count": 18,
   "metadata": {
    "application/vnd.databricks.v1+cell": {
     "cellMetadata": {
      "byteLimit": 2048000,
      "rowLimit": 10000
     },
     "inputWidgets": {},
     "nuid": "c4a232f5-26a1-4f1f-aba2-57d93a06b815",
     "showTitle": false,
     "title": ""
    }
   },
   "outputs": [
    {
     "data": {
      "text/plain": [
       "{'pypi_kedro_demo': {'type': 'polars.EagerPolarsDataset',\n",
       "  'file_format': 'parquet',\n",
       "  'filepath': 'data/00_demo/pypi_kedro_demo.pq'}}"
      ]
     },
     "execution_count": 18,
     "metadata": {},
     "output_type": "execute_result"
    }
   ],
   "source": [
    "catalog_config = config_loader.get(\"catalog\")\n",
    "catalog_config"
   ]
  },
  {
   "cell_type": "code",
   "execution_count": 19,
   "metadata": {
    "application/vnd.databricks.v1+cell": {
     "cellMetadata": {
      "byteLimit": 2048000,
      "rowLimit": 10000
     },
     "inputWidgets": {},
     "nuid": "c43fa6bf-5d27-4083-b673-5d29ea5a8df9",
     "showTitle": false,
     "title": ""
    }
   },
   "outputs": [],
   "source": [
    "catalog = DataCatalog.from_config(catalog_config)"
   ]
  },
  {
   "cell_type": "code",
   "execution_count": 20,
   "metadata": {
    "application/vnd.databricks.v1+cell": {
     "cellMetadata": {
      "byteLimit": 2048000,
      "rowLimit": 10000
     },
     "inputWidgets": {},
     "nuid": "9ca78e97-ca59-479d-96a4-7377cb090a4a",
     "showTitle": false,
     "title": ""
    }
   },
   "outputs": [
    {
     "data": {
      "text/html": [
       "<div><style>\n",
       ".dataframe > thead > tr,\n",
       ".dataframe > tbody > tr {\n",
       "  text-align: right;\n",
       "  white-space: pre-wrap;\n",
       "}\n",
       "</style>\n",
       "<small>shape: (5, 12)</small><table border=\"1\" class=\"dataframe\"><thead><tr><th>timestamp</th><th>project_name</th><th>version</th><th>major_version</th><th>type</th><th>installer</th><th>python</th><th>major_python</th><th>implementation</th><th>distro</th><th>system</th><th>cpu</th></tr><tr><td>datetime[μs, UTC]</td><td>str</td><td>str</td><td>str</td><td>str</td><td>struct[2]</td><td>str</td><td>str</td><td>struct[2]</td><td>struct[4]</td><td>struct[2]</td><td>str</td></tr></thead><tbody><tr><td>2024-07-01 23:32:58 UTC</td><td>&quot;kedro&quot;</td><td>&quot;0.17.7&quot;</td><td>&quot;0.17&quot;</td><td>&quot;bdist_wheel&quot;</td><td>{&quot;pip&quot;,&quot;22.0.3&quot;}</td><td>&quot;3.8.5&quot;</td><td>&quot;3.8&quot;</td><td>{&quot;CPython&quot;,&quot;3.8.5&quot;}</td><td>{&quot;Amazon Linux&quot;,&quot;2&quot;,null,{&quot;glibc&quot;,&quot;2.26&quot;}}</td><td>{&quot;Linux&quot;,&quot;4.14.262-200.489.amzn2.x86_64&quot;}</td><td>&quot;x86_64&quot;</td></tr><tr><td>2024-07-01 23:33:01 UTC</td><td>&quot;kedro&quot;</td><td>&quot;0.17.7&quot;</td><td>&quot;0.17&quot;</td><td>&quot;bdist_wheel&quot;</td><td>{&quot;pip&quot;,&quot;22.0.3&quot;}</td><td>&quot;3.8.5&quot;</td><td>&quot;3.8&quot;</td><td>{&quot;CPython&quot;,&quot;3.8.5&quot;}</td><td>{&quot;Amazon Linux&quot;,&quot;2&quot;,null,{&quot;glibc&quot;,&quot;2.26&quot;}}</td><td>{&quot;Linux&quot;,&quot;4.14.262-200.489.amzn2.x86_64&quot;}</td><td>&quot;x86_64&quot;</td></tr><tr><td>2024-07-01 23:30:20 UTC</td><td>&quot;kedro&quot;</td><td>&quot;0.17.7&quot;</td><td>&quot;0.17&quot;</td><td>&quot;bdist_wheel&quot;</td><td>{&quot;pip&quot;,&quot;22.0.3&quot;}</td><td>&quot;3.8.5&quot;</td><td>&quot;3.8&quot;</td><td>{&quot;CPython&quot;,&quot;3.8.5&quot;}</td><td>{&quot;Amazon Linux&quot;,&quot;2&quot;,null,{&quot;glibc&quot;,&quot;2.26&quot;}}</td><td>{&quot;Linux&quot;,&quot;4.14.262-200.489.amzn2.x86_64&quot;}</td><td>&quot;x86_64&quot;</td></tr><tr><td>2024-07-01 23:33:48 UTC</td><td>&quot;kedro&quot;</td><td>&quot;0.17.7&quot;</td><td>&quot;0.17&quot;</td><td>&quot;bdist_wheel&quot;</td><td>{&quot;pip&quot;,&quot;22.0.3&quot;}</td><td>&quot;3.8.5&quot;</td><td>&quot;3.8&quot;</td><td>{&quot;CPython&quot;,&quot;3.8.5&quot;}</td><td>{&quot;Amazon Linux&quot;,&quot;2&quot;,null,{&quot;glibc&quot;,&quot;2.26&quot;}}</td><td>{&quot;Linux&quot;,&quot;4.14.262-200.489.amzn2.x86_64&quot;}</td><td>&quot;x86_64&quot;</td></tr><tr><td>2024-07-01 23:21:22 UTC</td><td>&quot;kedro&quot;</td><td>&quot;0.18.0&quot;</td><td>&quot;0.18&quot;</td><td>&quot;bdist_wheel&quot;</td><td>{&quot;pip&quot;,&quot;24.1.1&quot;}</td><td>&quot;3.8.15&quot;</td><td>&quot;3.8&quot;</td><td>{&quot;CPython&quot;,&quot;3.8.15&quot;}</td><td>{&quot;Debian GNU/Linux&quot;,&quot;10&quot;,&quot;buster&quot;,{&quot;glibc&quot;,&quot;2.28&quot;}}</td><td>{&quot;Linux&quot;,&quot;5.10.0-0.deb10.16-amd64&quot;}</td><td>&quot;x86_64&quot;</td></tr></tbody></table></div>"
      ],
      "text/plain": [
       "shape: (5, 12)\n",
       "┌────────────┬────────────┬─────────┬────────────┬───┬────────────┬───────────┬───────────┬────────┐\n",
       "│ timestamp  ┆ project_na ┆ version ┆ major_vers ┆ … ┆ implementa ┆ distro    ┆ system    ┆ cpu    │\n",
       "│ ---        ┆ me         ┆ ---     ┆ ion        ┆   ┆ tion       ┆ ---       ┆ ---       ┆ ---    │\n",
       "│ datetime[μ ┆ ---        ┆ str     ┆ ---        ┆   ┆ ---        ┆ struct[4] ┆ struct[2] ┆ str    │\n",
       "│ s, UTC]    ┆ str        ┆         ┆ str        ┆   ┆ struct[2]  ┆           ┆           ┆        │\n",
       "╞════════════╪════════════╪═════════╪════════════╪═══╪════════════╪═══════════╪═══════════╪════════╡\n",
       "│ 2024-07-01 ┆ kedro      ┆ 0.17.7  ┆ 0.17       ┆ … ┆ {\"CPython\" ┆ {\"Amazon  ┆ {\"Linux\", ┆ x86_64 │\n",
       "│ 23:32:58   ┆            ┆         ┆            ┆   ┆ ,\"3.8.5\"}  ┆ Linux\",\"2 ┆ \"4.14.262 ┆        │\n",
       "│ UTC        ┆            ┆         ┆            ┆   ┆            ┆ \",null,{\" ┆ -200.489. ┆        │\n",
       "│            ┆            ┆         ┆            ┆   ┆            ┆ gli…      ┆ amz…      ┆        │\n",
       "│ 2024-07-01 ┆ kedro      ┆ 0.17.7  ┆ 0.17       ┆ … ┆ {\"CPython\" ┆ {\"Amazon  ┆ {\"Linux\", ┆ x86_64 │\n",
       "│ 23:33:01   ┆            ┆         ┆            ┆   ┆ ,\"3.8.5\"}  ┆ Linux\",\"2 ┆ \"4.14.262 ┆        │\n",
       "│ UTC        ┆            ┆         ┆            ┆   ┆            ┆ \",null,{\" ┆ -200.489. ┆        │\n",
       "│            ┆            ┆         ┆            ┆   ┆            ┆ gli…      ┆ amz…      ┆        │\n",
       "│ 2024-07-01 ┆ kedro      ┆ 0.17.7  ┆ 0.17       ┆ … ┆ {\"CPython\" ┆ {\"Amazon  ┆ {\"Linux\", ┆ x86_64 │\n",
       "│ 23:30:20   ┆            ┆         ┆            ┆   ┆ ,\"3.8.5\"}  ┆ Linux\",\"2 ┆ \"4.14.262 ┆        │\n",
       "│ UTC        ┆            ┆         ┆            ┆   ┆            ┆ \",null,{\" ┆ -200.489. ┆        │\n",
       "│            ┆            ┆         ┆            ┆   ┆            ┆ gli…      ┆ amz…      ┆        │\n",
       "│ 2024-07-01 ┆ kedro      ┆ 0.17.7  ┆ 0.17       ┆ … ┆ {\"CPython\" ┆ {\"Amazon  ┆ {\"Linux\", ┆ x86_64 │\n",
       "│ 23:33:48   ┆            ┆         ┆            ┆   ┆ ,\"3.8.5\"}  ┆ Linux\",\"2 ┆ \"4.14.262 ┆        │\n",
       "│ UTC        ┆            ┆         ┆            ┆   ┆            ┆ \",null,{\" ┆ -200.489. ┆        │\n",
       "│            ┆            ┆         ┆            ┆   ┆            ┆ gli…      ┆ amz…      ┆        │\n",
       "│ 2024-07-01 ┆ kedro      ┆ 0.18.0  ┆ 0.18       ┆ … ┆ {\"CPython\" ┆ {\"Debian  ┆ {\"Linux\", ┆ x86_64 │\n",
       "│ 23:21:22   ┆            ┆         ┆            ┆   ┆ ,\"3.8.15\"} ┆ GNU/Linux ┆ \"5.10.0-0 ┆        │\n",
       "│ UTC        ┆            ┆         ┆            ┆   ┆            ┆ \",\"10\",\"b ┆ .deb10.16 ┆        │\n",
       "│            ┆            ┆         ┆            ┆   ┆            ┆ ust…      ┆ -am…      ┆        │\n",
       "└────────────┴────────────┴─────────┴────────────┴───┴────────────┴───────────┴───────────┴────────┘"
      ]
     },
     "execution_count": 20,
     "metadata": {},
     "output_type": "execute_result"
    }
   ],
   "source": [
    "catalog.load(\"pypi_kedro_demo\")"
   ]
  },
  {
   "cell_type": "markdown",
   "metadata": {
    "application/vnd.databricks.v1+cell": {
     "cellMetadata": {
      "byteLimit": 2048000,
      "rowLimit": 10000
     },
     "inputWidgets": {},
     "nuid": "0f1786d5-0d36-4e8f-8d34-7ee14d3fd747",
     "showTitle": false,
     "title": ""
    }
   },
   "source": [
    "## Nodes and pipelines\n",
    "\n",
    "Now comes the interesting part. Kedro structures the computation on Directed Acyclic Graphs (DAGs), which are created by instantiating `Pipeline` objects with a list of `Node`s. By linking the inputs and outpus of each node, Kedro is then able to perform a topological sort and produce a graph.\n",
    "\n",
    "Let's start creating a trivial pipeline with 1 node. That 1 node will be a preprocessing function that will manipulate the `dep_time`, `arr_delay`, and `air_time` columns."
   ]
  },
  {
   "cell_type": "code",
   "execution_count": 21,
   "metadata": {},
   "outputs": [],
   "source": [
    "import polars as pl\n",
    "\n",
    "def count_by_major_version(df: pl.DataFrame) -> pl.DataFrame:\n",
    "    return df.group_by(\"major_version\").agg(pl.len())"
   ]
  },
  {
   "cell_type": "code",
   "execution_count": 22,
   "metadata": {
    "application/vnd.databricks.v1+cell": {
     "cellMetadata": {
      "byteLimit": 2048000,
      "rowLimit": 10000
     },
     "inputWidgets": {},
     "nuid": "66fed5ac-9835-4305-ae2b-ebb634b9027a",
     "showTitle": false,
     "title": ""
    }
   },
   "outputs": [
    {
     "data": {
      "text/html": [
       "<div><style>\n",
       ".dataframe > thead > tr,\n",
       ".dataframe > tbody > tr {\n",
       "  text-align: right;\n",
       "  white-space: pre-wrap;\n",
       "}\n",
       "</style>\n",
       "<small>shape: (2, 2)</small><table border=\"1\" class=\"dataframe\"><thead><tr><th>major_version</th><th>len</th></tr><tr><td>str</td><td>u32</td></tr></thead><tbody><tr><td>&quot;0.17&quot;</td><td>4</td></tr><tr><td>&quot;0.18&quot;</td><td>1</td></tr></tbody></table></div>"
      ],
      "text/plain": [
       "shape: (2, 2)\n",
       "┌───────────────┬─────┐\n",
       "│ major_version ┆ len │\n",
       "│ ---           ┆ --- │\n",
       "│ str           ┆ u32 │\n",
       "╞═══════════════╪═════╡\n",
       "│ 0.17          ┆ 4   │\n",
       "│ 0.18          ┆ 1   │\n",
       "└───────────────┴─────┘"
      ]
     },
     "execution_count": 22,
     "metadata": {},
     "output_type": "execute_result"
    }
   ],
   "source": [
    "count_by_major_version(pypi_kedro_demo)"
   ]
  },
  {
   "cell_type": "markdown",
   "metadata": {
    "application/vnd.databricks.v1+cell": {
     "cellMetadata": {
      "byteLimit": 2048000,
      "rowLimit": 10000
     },
     "inputWidgets": {},
     "nuid": "c2b3fd81-9071-4ba6-b9ff-c83960ec534a",
     "showTitle": false,
     "title": ""
    }
   },
   "source": [
    "Notice that this is a plain Python function, receiving an Polars DataFrame and returning another Polars DataFrame.\n",
    "\n",
    "Now, let's wrap it using the `node` convenience function from Kedro:"
   ]
  },
  {
   "cell_type": "code",
   "execution_count": 23,
   "metadata": {
    "application/vnd.databricks.v1+cell": {
     "cellMetadata": {
      "byteLimit": 2048000,
      "rowLimit": 10000
     },
     "inputWidgets": {},
     "nuid": "98b82f40-e81f-4f87-8baf-119cd7e754fc",
     "showTitle": false,
     "title": ""
    }
   },
   "outputs": [
    {
     "data": {
      "text/plain": [
       "Node(count_by_major_version, 'pypi_kedro_demo', 'aggregate_pypi_kedro_demo', None)"
      ]
     },
     "execution_count": 23,
     "metadata": {},
     "output_type": "execute_result"
    }
   ],
   "source": [
    "from kedro.pipeline import node\n",
    "\n",
    "n0 = node(\n",
    "    func=count_by_major_version,\n",
    "    inputs=\"pypi_kedro_demo\",\n",
    "    outputs=\"aggregate_pypi_kedro_demo\"\n",
    ")\n",
    "n0"
   ]
  },
  {
   "cell_type": "markdown",
   "metadata": {
    "application/vnd.databricks.v1+cell": {
     "cellMetadata": {
      "byteLimit": 2048000,
      "rowLimit": 10000
     },
     "inputWidgets": {},
     "nuid": "4cbb449b-67a5-4ff6-bbe7-d4abf3ad44a5",
     "showTitle": false,
     "title": ""
    }
   },
   "source": [
    "Conceptually, a `Node` is a wrapper around a Python function that defines a single step in a pipeline. It has inputs and outputs, which are the names of the Data Catalog datasets that the function will receive and return, respectively. Therefore, you could execute it as follows:\n",
    "\n",
    "```python\n",
    "n0.func(\n",
    "    *[catalog.load(input_dataset) for input_dataset in n0.inputs],\n",
    ")\n",
    "```\n",
    "\n",
    "Let's not do that though; Kedro will take care of it.\n",
    "\n",
    "The next step is to assemble the pipeline. In this case, it will only have 1 node:"
   ]
  },
  {
   "cell_type": "code",
   "execution_count": 24,
   "metadata": {
    "application/vnd.databricks.v1+cell": {
     "cellMetadata": {
      "byteLimit": 2048000,
      "rowLimit": 10000
     },
     "inputWidgets": {},
     "nuid": "0cc02764-dd8e-497f-b28b-4605808fc69e",
     "showTitle": false,
     "title": ""
    }
   },
   "outputs": [
    {
     "data": {
      "text/plain": [
       "Pipeline([\n",
       "Node(count_by_major_version, 'pypi_kedro_demo', 'aggregate_pypi_kedro_demo', None)\n",
       "])"
      ]
     },
     "execution_count": 24,
     "metadata": {},
     "output_type": "execute_result"
    }
   ],
   "source": [
    "from kedro.pipeline import pipeline\n",
    "\n",
    "pipe = pipeline([n0])\n",
    "pipe"
   ]
  },
  {
   "cell_type": "markdown",
   "metadata": {
    "application/vnd.databricks.v1+cell": {
     "cellMetadata": {
      "byteLimit": 2048000,
      "rowLimit": 10000
     },
     "inputWidgets": {},
     "nuid": "9b67d597-593f-4732-b615-7994ca568d69",
     "showTitle": false,
     "title": ""
    }
   },
   "source": [
    "And finally, you can now execute the pipeline. For the purposes of this tutorial, you can use Kedro's `SequentialRunner` directly:"
   ]
  },
  {
   "cell_type": "code",
   "execution_count": 25,
   "metadata": {
    "application/vnd.databricks.v1+cell": {
     "cellMetadata": {
      "byteLimit": 2048000,
      "rowLimit": 10000
     },
     "inputWidgets": {},
     "nuid": "e1f9648e-f921-4971-9109-c795f32a4f36",
     "showTitle": false,
     "title": ""
    }
   },
   "outputs": [
    {
     "data": {
      "text/html": [
       "<pre style=\"white-space:pre;overflow-x:auto;line-height:normal;font-family:Menlo,'DejaVu Sans Mono',consolas,'Courier New',monospace\"><span style=\"color: #7fbfbf; text-decoration-color: #7fbfbf\">[08/02/24 08:56:24] </span><span style=\"color: #000080; text-decoration-color: #000080\">INFO    </span> Using synchronous mode for loading and saving data. Use the    <a href=\"file:///Users/juan_cano/Projects/QuantumBlackLabs/kedro-pypi-monitor/.venv/lib/python3.11/site-packages/kedro/runner/sequential_runner.py\" target=\"_blank\"><span style=\"color: #7f7f7f; text-decoration-color: #7f7f7f\">sequential_runner.py</span></a><span style=\"color: #7f7f7f; text-decoration-color: #7f7f7f\">:</span><a href=\"file:///Users/juan_cano/Projects/QuantumBlackLabs/kedro-pypi-monitor/.venv/lib/python3.11/site-packages/kedro/runner/sequential_runner.py#64\" target=\"_blank\"><span style=\"color: #7f7f7f; text-decoration-color: #7f7f7f\">64</span></a>\n",
       "<span style=\"color: #7fbfbf; text-decoration-color: #7fbfbf\">                    </span>         --async flag for potential performance gains.                  <span style=\"color: #7f7f7f; text-decoration-color: #7f7f7f\">                       </span>\n",
       "<span style=\"color: #7fbfbf; text-decoration-color: #7fbfbf\">                    </span>         <span style=\"color: #0000ff; text-decoration-color: #0000ff; text-decoration: underline\">https://docs.kedro.org/en/stable/nodes_and_pipelines/run_a_pip</span> <span style=\"color: #7f7f7f; text-decoration-color: #7f7f7f\">                       </span>\n",
       "<span style=\"color: #7fbfbf; text-decoration-color: #7fbfbf\">                    </span>         <span style=\"color: #0000ff; text-decoration-color: #0000ff; text-decoration: underline\">eline.html#load-and-save-asynchronously</span>                        <span style=\"color: #7f7f7f; text-decoration-color: #7f7f7f\">                       </span>\n",
       "</pre>\n"
      ],
      "text/plain": [
       "\u001b[2;36m[08/02/24 08:56:24]\u001b[0m\u001b[2;36m \u001b[0m\u001b[34mINFO    \u001b[0m Using synchronous mode for loading and saving data. Use the    \u001b]8;id=476306;file:///Users/juan_cano/Projects/QuantumBlackLabs/kedro-pypi-monitor/.venv/lib/python3.11/site-packages/kedro/runner/sequential_runner.py\u001b\\\u001b[2msequential_runner.py\u001b[0m\u001b]8;;\u001b\\\u001b[2m:\u001b[0m\u001b]8;id=906414;file:///Users/juan_cano/Projects/QuantumBlackLabs/kedro-pypi-monitor/.venv/lib/python3.11/site-packages/kedro/runner/sequential_runner.py#64\u001b\\\u001b[2m64\u001b[0m\u001b]8;;\u001b\\\n",
       "\u001b[2;36m                    \u001b[0m         --async flag for potential performance gains.                  \u001b[2m                       \u001b[0m\n",
       "\u001b[2;36m                    \u001b[0m         \u001b[4;94mhttps://docs.kedro.org/en/stable/nodes_and_pipelines/run_a_pip\u001b[0m \u001b[2m                       \u001b[0m\n",
       "\u001b[2;36m                    \u001b[0m         \u001b[4;94meline.html#load-and-save-asynchronously\u001b[0m                        \u001b[2m                       \u001b[0m\n"
      ]
     },
     "metadata": {},
     "output_type": "display_data"
    },
    {
     "data": {
      "text/html": [
       "<pre style=\"white-space:pre;overflow-x:auto;line-height:normal;font-family:Menlo,'DejaVu Sans Mono',consolas,'Courier New',monospace\"><span style=\"color: #7fbfbf; text-decoration-color: #7fbfbf\">                    </span><span style=\"color: #000080; text-decoration-color: #000080\">INFO    </span> Loading data from <span style=\"color: #ff8700; text-decoration-color: #ff8700\">pypi_kedro_demo</span> <span style=\"font-weight: bold\">(</span>EagerPolarsDataset<span style=\"font-weight: bold\">)</span><span style=\"color: #808000; text-decoration-color: #808000\">...</span>          <a href=\"file:///Users/juan_cano/Projects/QuantumBlackLabs/kedro-pypi-monitor/.venv/lib/python3.11/site-packages/kedro/io/data_catalog.py\" target=\"_blank\"><span style=\"color: #7f7f7f; text-decoration-color: #7f7f7f\">data_catalog.py</span></a><span style=\"color: #7f7f7f; text-decoration-color: #7f7f7f\">:</span><a href=\"file:///Users/juan_cano/Projects/QuantumBlackLabs/kedro-pypi-monitor/.venv/lib/python3.11/site-packages/kedro/io/data_catalog.py#508\" target=\"_blank\"><span style=\"color: #7f7f7f; text-decoration-color: #7f7f7f\">508</span></a>\n",
       "</pre>\n"
      ],
      "text/plain": [
       "\u001b[2;36m                   \u001b[0m\u001b[2;36m \u001b[0m\u001b[34mINFO    \u001b[0m Loading data from \u001b[38;5;208mpypi_kedro_demo\u001b[0m \u001b[1m(\u001b[0mEagerPolarsDataset\u001b[1m)\u001b[0m\u001b[33m...\u001b[0m          \u001b]8;id=281509;file:///Users/juan_cano/Projects/QuantumBlackLabs/kedro-pypi-monitor/.venv/lib/python3.11/site-packages/kedro/io/data_catalog.py\u001b\\\u001b[2mdata_catalog.py\u001b[0m\u001b]8;;\u001b\\\u001b[2m:\u001b[0m\u001b]8;id=543786;file:///Users/juan_cano/Projects/QuantumBlackLabs/kedro-pypi-monitor/.venv/lib/python3.11/site-packages/kedro/io/data_catalog.py#508\u001b\\\u001b[2m508\u001b[0m\u001b]8;;\u001b\\\n"
      ]
     },
     "metadata": {},
     "output_type": "display_data"
    },
    {
     "data": {
      "text/html": [
       "<pre style=\"white-space:pre;overflow-x:auto;line-height:normal;font-family:Menlo,'DejaVu Sans Mono',consolas,'Courier New',monospace\"><span style=\"color: #7fbfbf; text-decoration-color: #7fbfbf\">                    </span><span style=\"color: #000080; text-decoration-color: #000080\">INFO    </span> Running node: <span style=\"color: #800080; text-decoration-color: #800080; font-weight: bold\">count_by_major_version</span><span style=\"font-weight: bold\">([</span>pypi_kedro_demo<span style=\"font-weight: bold\">])</span> -&gt;                 <a href=\"file:///Users/juan_cano/Projects/QuantumBlackLabs/kedro-pypi-monitor/.venv/lib/python3.11/site-packages/kedro/pipeline/node.py\" target=\"_blank\"><span style=\"color: #7f7f7f; text-decoration-color: #7f7f7f\">node.py</span></a><span style=\"color: #7f7f7f; text-decoration-color: #7f7f7f\">:</span><a href=\"file:///Users/juan_cano/Projects/QuantumBlackLabs/kedro-pypi-monitor/.venv/lib/python3.11/site-packages/kedro/pipeline/node.py#361\" target=\"_blank\"><span style=\"color: #7f7f7f; text-decoration-color: #7f7f7f\">361</span></a>\n",
       "<span style=\"color: #7fbfbf; text-decoration-color: #7fbfbf\">                    </span>         <span style=\"font-weight: bold\">[</span>aggregate_pypi_kedro_demo<span style=\"font-weight: bold\">]</span>                                                <span style=\"color: #7f7f7f; text-decoration-color: #7f7f7f\">           </span>\n",
       "</pre>\n"
      ],
      "text/plain": [
       "\u001b[2;36m                   \u001b[0m\u001b[2;36m \u001b[0m\u001b[34mINFO    \u001b[0m Running node: \u001b[1;35mcount_by_major_version\u001b[0m\u001b[1m(\u001b[0m\u001b[1m[\u001b[0mpypi_kedro_demo\u001b[1m]\u001b[0m\u001b[1m)\u001b[0m ->                 \u001b]8;id=676001;file:///Users/juan_cano/Projects/QuantumBlackLabs/kedro-pypi-monitor/.venv/lib/python3.11/site-packages/kedro/pipeline/node.py\u001b\\\u001b[2mnode.py\u001b[0m\u001b]8;;\u001b\\\u001b[2m:\u001b[0m\u001b]8;id=923146;file:///Users/juan_cano/Projects/QuantumBlackLabs/kedro-pypi-monitor/.venv/lib/python3.11/site-packages/kedro/pipeline/node.py#361\u001b\\\u001b[2m361\u001b[0m\u001b]8;;\u001b\\\n",
       "\u001b[2;36m                    \u001b[0m         \u001b[1m[\u001b[0maggregate_pypi_kedro_demo\u001b[1m]\u001b[0m                                                \u001b[2m           \u001b[0m\n"
      ]
     },
     "metadata": {},
     "output_type": "display_data"
    },
    {
     "data": {
      "text/html": [
       "<pre style=\"white-space:pre;overflow-x:auto;line-height:normal;font-family:Menlo,'DejaVu Sans Mono',consolas,'Courier New',monospace\"><span style=\"color: #7fbfbf; text-decoration-color: #7fbfbf\">                    </span><span style=\"color: #000080; text-decoration-color: #000080\">INFO    </span> Saving data to <span style=\"color: #ff8700; text-decoration-color: #ff8700\">aggregate_pypi_kedro_demo</span> <span style=\"font-weight: bold\">(</span>MemoryDataset<span style=\"font-weight: bold\">)</span><span style=\"color: #808000; text-decoration-color: #808000\">...</span>        <a href=\"file:///Users/juan_cano/Projects/QuantumBlackLabs/kedro-pypi-monitor/.venv/lib/python3.11/site-packages/kedro/io/data_catalog.py\" target=\"_blank\"><span style=\"color: #7f7f7f; text-decoration-color: #7f7f7f\">data_catalog.py</span></a><span style=\"color: #7f7f7f; text-decoration-color: #7f7f7f\">:</span><a href=\"file:///Users/juan_cano/Projects/QuantumBlackLabs/kedro-pypi-monitor/.venv/lib/python3.11/site-packages/kedro/io/data_catalog.py#550\" target=\"_blank\"><span style=\"color: #7f7f7f; text-decoration-color: #7f7f7f\">550</span></a>\n",
       "</pre>\n"
      ],
      "text/plain": [
       "\u001b[2;36m                   \u001b[0m\u001b[2;36m \u001b[0m\u001b[34mINFO    \u001b[0m Saving data to \u001b[38;5;208maggregate_pypi_kedro_demo\u001b[0m \u001b[1m(\u001b[0mMemoryDataset\u001b[1m)\u001b[0m\u001b[33m...\u001b[0m        \u001b]8;id=191471;file:///Users/juan_cano/Projects/QuantumBlackLabs/kedro-pypi-monitor/.venv/lib/python3.11/site-packages/kedro/io/data_catalog.py\u001b\\\u001b[2mdata_catalog.py\u001b[0m\u001b]8;;\u001b\\\u001b[2m:\u001b[0m\u001b]8;id=355786;file:///Users/juan_cano/Projects/QuantumBlackLabs/kedro-pypi-monitor/.venv/lib/python3.11/site-packages/kedro/io/data_catalog.py#550\u001b\\\u001b[2m550\u001b[0m\u001b]8;;\u001b\\\n"
      ]
     },
     "metadata": {},
     "output_type": "display_data"
    },
    {
     "data": {
      "text/html": [
       "<pre style=\"white-space:pre;overflow-x:auto;line-height:normal;font-family:Menlo,'DejaVu Sans Mono',consolas,'Courier New',monospace\"><span style=\"color: #7fbfbf; text-decoration-color: #7fbfbf\">[08/02/24 08:56:25] </span><span style=\"color: #000080; text-decoration-color: #000080\">INFO    </span> Completed <span style=\"color: #008080; text-decoration-color: #008080; font-weight: bold\">1</span> out of <span style=\"color: #008080; text-decoration-color: #008080; font-weight: bold\">1</span> tasks                                     <a href=\"file:///Users/juan_cano/Projects/QuantumBlackLabs/kedro-pypi-monitor/.venv/lib/python3.11/site-packages/kedro/runner/sequential_runner.py\" target=\"_blank\"><span style=\"color: #7f7f7f; text-decoration-color: #7f7f7f\">sequential_runner.py</span></a><span style=\"color: #7f7f7f; text-decoration-color: #7f7f7f\">:</span><a href=\"file:///Users/juan_cano/Projects/QuantumBlackLabs/kedro-pypi-monitor/.venv/lib/python3.11/site-packages/kedro/runner/sequential_runner.py#90\" target=\"_blank\"><span style=\"color: #7f7f7f; text-decoration-color: #7f7f7f\">90</span></a>\n",
       "</pre>\n"
      ],
      "text/plain": [
       "\u001b[2;36m[08/02/24 08:56:25]\u001b[0m\u001b[2;36m \u001b[0m\u001b[34mINFO    \u001b[0m Completed \u001b[1;36m1\u001b[0m out of \u001b[1;36m1\u001b[0m tasks                                     \u001b]8;id=475441;file:///Users/juan_cano/Projects/QuantumBlackLabs/kedro-pypi-monitor/.venv/lib/python3.11/site-packages/kedro/runner/sequential_runner.py\u001b\\\u001b[2msequential_runner.py\u001b[0m\u001b]8;;\u001b\\\u001b[2m:\u001b[0m\u001b]8;id=528457;file:///Users/juan_cano/Projects/QuantumBlackLabs/kedro-pypi-monitor/.venv/lib/python3.11/site-packages/kedro/runner/sequential_runner.py#90\u001b\\\u001b[2m90\u001b[0m\u001b]8;;\u001b\\\n"
      ]
     },
     "metadata": {},
     "output_type": "display_data"
    },
    {
     "data": {
      "text/html": [
       "<pre style=\"white-space:pre;overflow-x:auto;line-height:normal;font-family:Menlo,'DejaVu Sans Mono',consolas,'Courier New',monospace\"><span style=\"color: #7fbfbf; text-decoration-color: #7fbfbf\">                    </span><span style=\"color: #000080; text-decoration-color: #000080\">INFO    </span> Pipeline execution completed successfully.                               <a href=\"file:///Users/juan_cano/Projects/QuantumBlackLabs/kedro-pypi-monitor/.venv/lib/python3.11/site-packages/kedro/runner/runner.py\" target=\"_blank\"><span style=\"color: #7f7f7f; text-decoration-color: #7f7f7f\">runner.py</span></a><span style=\"color: #7f7f7f; text-decoration-color: #7f7f7f\">:</span><a href=\"file:///Users/juan_cano/Projects/QuantumBlackLabs/kedro-pypi-monitor/.venv/lib/python3.11/site-packages/kedro/runner/runner.py#119\" target=\"_blank\"><span style=\"color: #7f7f7f; text-decoration-color: #7f7f7f\">119</span></a>\n",
       "</pre>\n"
      ],
      "text/plain": [
       "\u001b[2;36m                   \u001b[0m\u001b[2;36m \u001b[0m\u001b[34mINFO    \u001b[0m Pipeline execution completed successfully.                               \u001b]8;id=820349;file:///Users/juan_cano/Projects/QuantumBlackLabs/kedro-pypi-monitor/.venv/lib/python3.11/site-packages/kedro/runner/runner.py\u001b\\\u001b[2mrunner.py\u001b[0m\u001b]8;;\u001b\\\u001b[2m:\u001b[0m\u001b]8;id=960290;file:///Users/juan_cano/Projects/QuantumBlackLabs/kedro-pypi-monitor/.venv/lib/python3.11/site-packages/kedro/runner/runner.py#119\u001b\\\u001b[2m119\u001b[0m\u001b]8;;\u001b\\\n"
      ]
     },
     "metadata": {},
     "output_type": "display_data"
    },
    {
     "data": {
      "text/html": [
       "<pre style=\"white-space:pre;overflow-x:auto;line-height:normal;font-family:Menlo,'DejaVu Sans Mono',consolas,'Courier New',monospace\"><span style=\"color: #7fbfbf; text-decoration-color: #7fbfbf\">                    </span><span style=\"color: #000080; text-decoration-color: #000080\">INFO    </span> Loading data from <span style=\"color: #ff8700; text-decoration-color: #ff8700\">aggregate_pypi_kedro_demo</span> <span style=\"font-weight: bold\">(</span>MemoryDataset<span style=\"font-weight: bold\">)</span><span style=\"color: #808000; text-decoration-color: #808000\">...</span>     <a href=\"file:///Users/juan_cano/Projects/QuantumBlackLabs/kedro-pypi-monitor/.venv/lib/python3.11/site-packages/kedro/io/data_catalog.py\" target=\"_blank\"><span style=\"color: #7f7f7f; text-decoration-color: #7f7f7f\">data_catalog.py</span></a><span style=\"color: #7f7f7f; text-decoration-color: #7f7f7f\">:</span><a href=\"file:///Users/juan_cano/Projects/QuantumBlackLabs/kedro-pypi-monitor/.venv/lib/python3.11/site-packages/kedro/io/data_catalog.py#508\" target=\"_blank\"><span style=\"color: #7f7f7f; text-decoration-color: #7f7f7f\">508</span></a>\n",
       "</pre>\n"
      ],
      "text/plain": [
       "\u001b[2;36m                   \u001b[0m\u001b[2;36m \u001b[0m\u001b[34mINFO    \u001b[0m Loading data from \u001b[38;5;208maggregate_pypi_kedro_demo\u001b[0m \u001b[1m(\u001b[0mMemoryDataset\u001b[1m)\u001b[0m\u001b[33m...\u001b[0m     \u001b]8;id=56386;file:///Users/juan_cano/Projects/QuantumBlackLabs/kedro-pypi-monitor/.venv/lib/python3.11/site-packages/kedro/io/data_catalog.py\u001b\\\u001b[2mdata_catalog.py\u001b[0m\u001b]8;;\u001b\\\u001b[2m:\u001b[0m\u001b]8;id=674972;file:///Users/juan_cano/Projects/QuantumBlackLabs/kedro-pypi-monitor/.venv/lib/python3.11/site-packages/kedro/io/data_catalog.py#508\u001b\\\u001b[2m508\u001b[0m\u001b]8;;\u001b\\\n"
      ]
     },
     "metadata": {},
     "output_type": "display_data"
    }
   ],
   "source": [
    "from kedro.runner import SequentialRunner\n",
    "\n",
    "outputs = SequentialRunner().run(pipe, catalog=catalog)"
   ]
  },
  {
   "cell_type": "markdown",
   "metadata": {
    "application/vnd.databricks.v1+cell": {
     "cellMetadata": {
      "byteLimit": 2048000,
      "rowLimit": 10000
     },
     "inputWidgets": {},
     "nuid": "a75082ec-44e5-4690-bec8-cb66159619e8",
     "showTitle": false,
     "title": ""
    }
   },
   "source": [
    "The output of the `.run(...)` method will be \"Any node outputs that cannot be processed by the `DataCatalog`\". Since `preprocessed_nyctaxi_trips` is not declared in the Data Catalog, it's right there in the dictionary:"
   ]
  },
  {
   "cell_type": "code",
   "execution_count": 26,
   "metadata": {
    "application/vnd.databricks.v1+cell": {
     "cellMetadata": {
      "byteLimit": 2048000,
      "rowLimit": 10000
     },
     "inputWidgets": {},
     "nuid": "72581dd5-09d9-43d6-bdb4-8726d3aa0955",
     "showTitle": false,
     "title": ""
    }
   },
   "outputs": [
    {
     "data": {
      "text/html": [
       "<pre style=\"white-space:pre;overflow-x:auto;line-height:normal;font-family:Menlo,'DejaVu Sans Mono',consolas,'Courier New',monospace\"></pre>\n"
      ],
      "text/plain": []
     },
     "metadata": {},
     "output_type": "display_data"
    },
    {
     "data": {
      "text/plain": [
       "\u001b[1;35mdict_keys\u001b[0m\u001b[1m(\u001b[0m\u001b[1m[\u001b[0m\u001b[32m'aggregate_pypi_kedro_demo'\u001b[0m\u001b[1m]\u001b[0m\u001b[1m)\u001b[0m"
      ]
     },
     "execution_count": 26,
     "metadata": {},
     "output_type": "execute_result"
    }
   ],
   "source": [
    "outputs.keys()"
   ]
  },
  {
   "cell_type": "code",
   "execution_count": 27,
   "metadata": {
    "application/vnd.databricks.v1+cell": {
     "cellMetadata": {
      "byteLimit": 2048000,
      "rowLimit": 10000
     },
     "inputWidgets": {},
     "nuid": "a5986e58-b2e9-4cd2-91ba-2045c955ca93",
     "showTitle": false,
     "title": ""
    }
   },
   "outputs": [
    {
     "data": {
      "text/html": [
       "<pre style=\"white-space:pre;overflow-x:auto;line-height:normal;font-family:Menlo,'DejaVu Sans Mono',consolas,'Courier New',monospace\"></pre>\n"
      ],
      "text/plain": []
     },
     "metadata": {},
     "output_type": "display_data"
    },
    {
     "data": {
      "text/html": [
       "<div><style>\n",
       ".dataframe > thead > tr,\n",
       ".dataframe > tbody > tr {\n",
       "  text-align: right;\n",
       "  white-space: pre-wrap;\n",
       "}\n",
       "</style>\n",
       "<small>shape: (2, 2)</small><table border=\"1\" class=\"dataframe\"><thead><tr><th>major_version</th><th>len</th></tr><tr><td>str</td><td>u32</td></tr></thead><tbody><tr><td>&quot;0.17&quot;</td><td>4</td></tr><tr><td>&quot;0.18&quot;</td><td>1</td></tr></tbody></table></div>"
      ],
      "text/plain": [
       "\n",
       "shape: \u001b[1m(\u001b[0m\u001b[1;36m2\u001b[0m, \u001b[1;36m2\u001b[0m\u001b[1m)\u001b[0m\n",
       "┌───────────────┬─────┐\n",
       "│ major_version ┆ len │\n",
       "│ ---           ┆ --- │\n",
       "│ str           ┆ u32 │\n",
       "╞═══════════════╪═════╡\n",
       "│ \u001b[1;36m0.17\u001b[0m          ┆ \u001b[1;36m4\u001b[0m   │\n",
       "│ \u001b[1;36m0.18\u001b[0m          ┆ \u001b[1;36m1\u001b[0m   │\n",
       "└───────────────┴─────┘"
      ]
     },
     "execution_count": 27,
     "metadata": {},
     "output_type": "execute_result"
    }
   ],
   "source": [
    "outputs[\"aggregate_pypi_kedro_demo\"]"
   ]
  },
  {
   "cell_type": "markdown",
   "metadata": {},
   "source": [
    "## Connect to BigQuery\n",
    "\n",
    "### a) Running a custom SQL query and retrieving the result as a Polars DataFrame\n",
    "\n",
    "One way of connecting to `BigQuery` is writing the SQL query directly in the catalog. For that, a custom `PolarsBigQueryDataset` is available in `kedro_pypi_monitor`:"
   ]
  },
  {
   "cell_type": "code",
   "execution_count": 28,
   "metadata": {},
   "outputs": [
    {
     "name": "stdout",
     "output_type": "stream",
     "text": [
      "Overwriting catalog.yml\n"
     ]
    }
   ],
   "source": [
    "%%writefile catalog.yml\n",
    "_local_data: data\n",
    "\n",
    "pypi_kedro_raw:\n",
    "  type: kedro_pypi_monitor.datasets.PolarsBigQueryDataset\n",
    "  sql: >\n",
    "    SELECT\n",
    "      *\n",
    "    FROM\n",
    "      `bigquery-public-data.pypi.file_downloads`\n",
    "    WHERE\n",
    "      project = 'kedro'\n",
    "      AND TIMESTAMP(\"2024-07-01\") <= timestamp\n",
    "      AND timestamp < TIMESTAMP(\"2024-07-02\")\n",
    "    LIMIT 5\n",
    "\n",
    "pypi_kedro_demo:\n",
    "  type: polars.EagerPolarsDataset\n",
    "  file_format: parquet\n",
    "  filepath: ${_local_data}/00_demo/pypi_kedro_demo.pq\n"
   ]
  },
  {
   "cell_type": "code",
   "execution_count": 29,
   "metadata": {},
   "outputs": [
    {
     "data": {
      "text/html": [
       "<pre style=\"white-space:pre;overflow-x:auto;line-height:normal;font-family:Menlo,'DejaVu Sans Mono',consolas,'Courier New',monospace\"></pre>\n"
      ],
      "text/plain": []
     },
     "metadata": {},
     "output_type": "display_data"
    },
    {
     "data": {
      "text/plain": [
       "\u001b[1m[\u001b[0m\u001b[32m'pypi_kedro_raw'\u001b[0m, \u001b[32m'pypi_kedro_demo'\u001b[0m\u001b[1m]\u001b[0m"
      ]
     },
     "execution_count": 29,
     "metadata": {},
     "output_type": "execute_result"
    }
   ],
   "source": [
    "catalog = DataCatalog.from_config(config_loader.get(\"catalog\"))\n",
    "catalog.list()"
   ]
  },
  {
   "cell_type": "code",
   "execution_count": 30,
   "metadata": {},
   "outputs": [
    {
     "data": {
      "text/html": [
       "<pre style=\"white-space:pre;overflow-x:auto;line-height:normal;font-family:Menlo,'DejaVu Sans Mono',consolas,'Courier New',monospace\"><span style=\"color: #7fbfbf; text-decoration-color: #7fbfbf\">[07/30/24 08:07:54] </span><span style=\"color: #000080; text-decoration-color: #000080\">INFO    </span> Loading data from <span style=\"color: #ff8700; text-decoration-color: #ff8700\">pypi_kedro_raw</span> <span style=\"font-weight: bold\">(</span>PolarsBigQueryDataset<span style=\"font-weight: bold\">)</span><span style=\"color: #808000; text-decoration-color: #808000\">...</span>        <a href=\"file:///Users/juan_cano/Projects/QuantumBlackLabs/kedro-pypi-monitor/.venv/lib/python3.11/site-packages/kedro/io/data_catalog.py\" target=\"_blank\"><span style=\"color: #7f7f7f; text-decoration-color: #7f7f7f\">data_catalog.py</span></a><span style=\"color: #7f7f7f; text-decoration-color: #7f7f7f\">:</span><a href=\"file:///Users/juan_cano/Projects/QuantumBlackLabs/kedro-pypi-monitor/.venv/lib/python3.11/site-packages/kedro/io/data_catalog.py#508\" target=\"_blank\"><span style=\"color: #7f7f7f; text-decoration-color: #7f7f7f\">508</span></a>\n",
       "</pre>\n"
      ],
      "text/plain": [
       "\u001b[2;36m[07/30/24 08:07:54]\u001b[0m\u001b[2;36m \u001b[0m\u001b[34mINFO    \u001b[0m Loading data from \u001b[38;5;208mpypi_kedro_raw\u001b[0m \u001b[1m(\u001b[0mPolarsBigQueryDataset\u001b[1m)\u001b[0m\u001b[33m...\u001b[0m        \u001b]8;id=229837;file:///Users/juan_cano/Projects/QuantumBlackLabs/kedro-pypi-monitor/.venv/lib/python3.11/site-packages/kedro/io/data_catalog.py\u001b\\\u001b[2mdata_catalog.py\u001b[0m\u001b]8;;\u001b\\\u001b[2m:\u001b[0m\u001b]8;id=681686;file:///Users/juan_cano/Projects/QuantumBlackLabs/kedro-pypi-monitor/.venv/lib/python3.11/site-packages/kedro/io/data_catalog.py#508\u001b\\\u001b[2m508\u001b[0m\u001b]8;;\u001b\\\n"
      ]
     },
     "metadata": {},
     "output_type": "display_data"
    },
    {
     "data": {
      "text/html": [
       "<pre style=\"white-space:pre;overflow-x:auto;line-height:normal;font-family:Menlo,'DejaVu Sans Mono',consolas,'Courier New',monospace\"></pre>\n"
      ],
      "text/plain": []
     },
     "metadata": {},
     "output_type": "display_data"
    },
    {
     "data": {
      "text/html": [
       "<div><style>\n",
       ".dataframe > thead > tr,\n",
       ".dataframe > tbody > tr {\n",
       "  text-align: right;\n",
       "  white-space: pre-wrap;\n",
       "}\n",
       "</style>\n",
       "<small>shape: (5, 8)</small><table border=\"1\" class=\"dataframe\"><thead><tr><th>timestamp</th><th>country_code</th><th>url</th><th>project</th><th>file</th><th>details</th><th>tls_protocol</th><th>tls_cipher</th></tr><tr><td>datetime[μs, UTC]</td><td>str</td><td>str</td><td>str</td><td>struct[4]</td><td>struct[10]</td><td>str</td><td>str</td></tr></thead><tbody><tr><td>2024-07-01 23:32:58 UTC</td><td>&quot;US&quot;</td><td>&quot;/packages/d5/0e/4009cbb8d0d391…</td><td>&quot;kedro&quot;</td><td>{&quot;kedro-0.17.7-py3-none-any.whl&quot;,&quot;kedro&quot;,&quot;0.17.7&quot;,&quot;bdist_wheel&quot;}</td><td>{{&quot;pip&quot;,&quot;22.0.3&quot;},&quot;3.8.5&quot;,{&quot;CPython&quot;,&quot;3.8.5&quot;},{&quot;Amazon Linux&quot;,&quot;2&quot;,null,{&quot;glibc&quot;,&quot;2.26&quot;}},{&quot;Linux&quot;,&quot;4.14.262-200.489.amzn2.x86_64&quot;},&quot;x86_64&quot;,&quot;OpenSSL 1.0.2k-fips  26 Jan 2017&quot;,&quot;60.6.0&quot;,null,null}</td><td>&quot;TLSv1.2&quot;</td><td>&quot;ECDHE-RSA-AES128-GCM-SHA256&quot;</td></tr><tr><td>2024-07-01 23:33:01 UTC</td><td>&quot;US&quot;</td><td>&quot;/packages/d5/0e/4009cbb8d0d391…</td><td>&quot;kedro&quot;</td><td>{&quot;kedro-0.17.7-py3-none-any.whl&quot;,&quot;kedro&quot;,&quot;0.17.7&quot;,&quot;bdist_wheel&quot;}</td><td>{{&quot;pip&quot;,&quot;22.0.3&quot;},&quot;3.8.5&quot;,{&quot;CPython&quot;,&quot;3.8.5&quot;},{&quot;Amazon Linux&quot;,&quot;2&quot;,null,{&quot;glibc&quot;,&quot;2.26&quot;}},{&quot;Linux&quot;,&quot;4.14.262-200.489.amzn2.x86_64&quot;},&quot;x86_64&quot;,&quot;OpenSSL 1.0.2k-fips  26 Jan 2017&quot;,&quot;60.6.0&quot;,null,null}</td><td>&quot;TLSv1.2&quot;</td><td>&quot;ECDHE-RSA-AES128-GCM-SHA256&quot;</td></tr><tr><td>2024-07-01 23:30:20 UTC</td><td>&quot;US&quot;</td><td>&quot;/packages/d5/0e/4009cbb8d0d391…</td><td>&quot;kedro&quot;</td><td>{&quot;kedro-0.17.7-py3-none-any.whl&quot;,&quot;kedro&quot;,&quot;0.17.7&quot;,&quot;bdist_wheel&quot;}</td><td>{{&quot;pip&quot;,&quot;22.0.3&quot;},&quot;3.8.5&quot;,{&quot;CPython&quot;,&quot;3.8.5&quot;},{&quot;Amazon Linux&quot;,&quot;2&quot;,null,{&quot;glibc&quot;,&quot;2.26&quot;}},{&quot;Linux&quot;,&quot;4.14.262-200.489.amzn2.x86_64&quot;},&quot;x86_64&quot;,&quot;OpenSSL 1.0.2k-fips  26 Jan 2017&quot;,&quot;60.6.0&quot;,null,null}</td><td>&quot;TLSv1.2&quot;</td><td>&quot;ECDHE-RSA-AES128-GCM-SHA256&quot;</td></tr><tr><td>2024-07-01 23:33:48 UTC</td><td>&quot;US&quot;</td><td>&quot;/packages/d5/0e/4009cbb8d0d391…</td><td>&quot;kedro&quot;</td><td>{&quot;kedro-0.17.7-py3-none-any.whl&quot;,&quot;kedro&quot;,&quot;0.17.7&quot;,&quot;bdist_wheel&quot;}</td><td>{{&quot;pip&quot;,&quot;22.0.3&quot;},&quot;3.8.5&quot;,{&quot;CPython&quot;,&quot;3.8.5&quot;},{&quot;Amazon Linux&quot;,&quot;2&quot;,null,{&quot;glibc&quot;,&quot;2.26&quot;}},{&quot;Linux&quot;,&quot;4.14.262-200.489.amzn2.x86_64&quot;},&quot;x86_64&quot;,&quot;OpenSSL 1.0.2k-fips  26 Jan 2017&quot;,&quot;60.6.0&quot;,null,null}</td><td>&quot;TLSv1.2&quot;</td><td>&quot;ECDHE-RSA-AES128-GCM-SHA256&quot;</td></tr><tr><td>2024-07-01 23:21:22 UTC</td><td>&quot;US&quot;</td><td>&quot;/packages/db/2b/1a6f24002485d1…</td><td>&quot;kedro&quot;</td><td>{&quot;kedro-0.18.0-py3-none-any.whl&quot;,&quot;kedro&quot;,&quot;0.18.0&quot;,&quot;bdist_wheel&quot;}</td><td>{{&quot;pip&quot;,&quot;24.1.1&quot;},&quot;3.8.15&quot;,{&quot;CPython&quot;,&quot;3.8.15&quot;},{&quot;Debian GNU/Linux&quot;,&quot;10&quot;,&quot;buster&quot;,{&quot;glibc&quot;,&quot;2.28&quot;}},{&quot;Linux&quot;,&quot;5.10.0-0.deb10.16-amd64&quot;},&quot;x86_64&quot;,&quot;OpenSSL 1.1.1u  30 May 2023&quot;,&quot;59.8.0&quot;,null,null}</td><td>&quot;TLSv1.3&quot;</td><td>&quot;TLS_AES_128_GCM_SHA256&quot;</td></tr></tbody></table></div>"
      ],
      "text/plain": [
       "\n",
       "shape: \u001b[1m(\u001b[0m\u001b[1;36m5\u001b[0m, \u001b[1;36m8\u001b[0m\u001b[1m)\u001b[0m\n",
       "┌────────────┬────────────┬────────────┬─────────┬────────────┬────────────┬───────────┬───────────┐\n",
       "│ timestamp  ┆ country_co ┆ url        ┆ project ┆ file       ┆ details    ┆ tls_proto ┆ tls_ciphe │\n",
       "│ ---        ┆ de         ┆ ---        ┆ ---     ┆ ---        ┆ ---        ┆ col       ┆ r         │\n",
       "│ datetime\u001b[1m[\u001b[0mμ ┆ ---        ┆ str        ┆ str     ┆ struct\u001b[1m[\u001b[0m\u001b[1;36m4\u001b[0m\u001b[1m]\u001b[0m  ┆ struct\u001b[1m[\u001b[0m\u001b[1;36m10\u001b[0m\u001b[1m]\u001b[0m ┆ ---       ┆ ---       │\n",
       "│ s, UTC\u001b[1m]\u001b[0m    ┆ str        ┆            ┆         ┆            ┆            ┆ str       ┆ str       │\n",
       "╞════════════╪════════════╪════════════╪═════════╪════════════╪════════════╪═══════════╪═══════════╡\n",
       "│ \u001b[1;36m2024\u001b[0m-\u001b[1;36m07\u001b[0m-\u001b[1;36m01\u001b[0m ┆ US         ┆ \u001b[35m/packages/\u001b[0m ┆ kedro   ┆ \u001b[1m{\u001b[0m\u001b[32m\"kedro-0. ┆ \u001b[0m\u001b[32m{\u001b[0m\u001b[32m{\u001b[0m\u001b[32m\"\u001b[0mpip\",\"\u001b[1;36m2\u001b[0m ┆ TLSv1.\u001b[1;36m2\u001b[0m   ┆ ECDHE-RSA │\n",
       "│ \u001b[1;92m23:32:58\u001b[0m   ┆            ┆ d5/0e/\u001b[1;36m4009\u001b[0m ┆         ┆ \u001b[1;36m17.7\u001b[0m-py3-n ┆ \u001b[1;36m2.0\u001b[0m.\u001b[1;36m3\u001b[0m\"\u001b[1m}\u001b[0m,\"\u001b[1;36m3\u001b[0m ┆           ┆ -AES128-G │\n",
       "│ UTC        ┆            ┆ cbb8d0d391 ┆         ┆ one-any.wh ┆ .\u001b[1;36m8.5\u001b[0m\",\u001b[1m{\u001b[0m\"CP ┆           ┆ CM-SHA256 │\n",
       "│            ┆            ┆ …          ┆         ┆ …          ┆ …          ┆           ┆           │\n",
       "│ \u001b[1;36m2024\u001b[0m-\u001b[1;36m07\u001b[0m-\u001b[1;36m01\u001b[0m ┆ US         ┆ \u001b[35m/packages/\u001b[0m ┆ kedro   ┆ \u001b[1m{\u001b[0m\u001b[32m\"kedro-0. ┆ \u001b[0m\u001b[32m{\u001b[0m\u001b[32m{\u001b[0m\u001b[32m\"\u001b[0mpip\",\"\u001b[1;36m2\u001b[0m ┆ TLSv1.\u001b[1;36m2\u001b[0m   ┆ ECDHE-RSA │\n",
       "│ \u001b[1;92m23:33:01\u001b[0m   ┆            ┆ d5/0e/\u001b[1;36m4009\u001b[0m ┆         ┆ \u001b[1;36m17.7\u001b[0m-py3-n ┆ \u001b[1;36m2.0\u001b[0m.\u001b[1;36m3\u001b[0m\"\u001b[1m}\u001b[0m,\"\u001b[1;36m3\u001b[0m ┆           ┆ -AES128-G │\n",
       "│ UTC        ┆            ┆ cbb8d0d391 ┆         ┆ one-any.wh ┆ .\u001b[1;36m8.5\u001b[0m\",\u001b[1m{\u001b[0m\"CP ┆           ┆ CM-SHA256 │\n",
       "│            ┆            ┆ …          ┆         ┆ …          ┆ …          ┆           ┆           │\n",
       "│ \u001b[1;36m2024\u001b[0m-\u001b[1;36m07\u001b[0m-\u001b[1;36m01\u001b[0m ┆ US         ┆ \u001b[35m/packages/\u001b[0m ┆ kedro   ┆ \u001b[1m{\u001b[0m\u001b[32m\"kedro-0. ┆ \u001b[0m\u001b[32m{\u001b[0m\u001b[32m{\u001b[0m\u001b[32m\"\u001b[0mpip\",\"\u001b[1;36m2\u001b[0m ┆ TLSv1.\u001b[1;36m2\u001b[0m   ┆ ECDHE-RSA │\n",
       "│ \u001b[1;92m23:30:20\u001b[0m   ┆            ┆ d5/0e/\u001b[1;36m4009\u001b[0m ┆         ┆ \u001b[1;36m17.7\u001b[0m-py3-n ┆ \u001b[1;36m2.0\u001b[0m.\u001b[1;36m3\u001b[0m\"\u001b[1m}\u001b[0m,\"\u001b[1;36m3\u001b[0m ┆           ┆ -AES128-G │\n",
       "│ UTC        ┆            ┆ cbb8d0d391 ┆         ┆ one-any.wh ┆ .\u001b[1;36m8.5\u001b[0m\",\u001b[1m{\u001b[0m\"CP ┆           ┆ CM-SHA256 │\n",
       "│            ┆            ┆ …          ┆         ┆ …          ┆ …          ┆           ┆           │\n",
       "│ \u001b[1;36m2024\u001b[0m-\u001b[1;36m07\u001b[0m-\u001b[1;36m01\u001b[0m ┆ US         ┆ \u001b[35m/packages/\u001b[0m ┆ kedro   ┆ \u001b[1m{\u001b[0m\u001b[32m\"kedro-0. ┆ \u001b[0m\u001b[32m{\u001b[0m\u001b[32m{\u001b[0m\u001b[32m\"\u001b[0mpip\",\"\u001b[1;36m2\u001b[0m ┆ TLSv1.\u001b[1;36m2\u001b[0m   ┆ ECDHE-RSA │\n",
       "│ \u001b[1;92m23:33:48\u001b[0m   ┆            ┆ d5/0e/\u001b[1;36m4009\u001b[0m ┆         ┆ \u001b[1;36m17.7\u001b[0m-py3-n ┆ \u001b[1;36m2.0\u001b[0m.\u001b[1;36m3\u001b[0m\"\u001b[1m}\u001b[0m,\"\u001b[1;36m3\u001b[0m ┆           ┆ -AES128-G │\n",
       "│ UTC        ┆            ┆ cbb8d0d391 ┆         ┆ one-any.wh ┆ .\u001b[1;36m8.5\u001b[0m\",\u001b[1m{\u001b[0m\"CP ┆           ┆ CM-SHA256 │\n",
       "│            ┆            ┆ …          ┆         ┆ …          ┆ …          ┆           ┆           │\n",
       "│ \u001b[1;36m2024\u001b[0m-\u001b[1;36m07\u001b[0m-\u001b[1;36m01\u001b[0m ┆ US         ┆ \u001b[35m/packages/\u001b[0m ┆ kedro   ┆ \u001b[1m{\u001b[0m\u001b[32m\"kedro-0. ┆ \u001b[0m\u001b[32m{\u001b[0m\u001b[32m{\u001b[0m\u001b[32m\"\u001b[0mpip\",\"\u001b[1;36m2\u001b[0m ┆ TLSv1.\u001b[1;36m3\u001b[0m   ┆ TLS_AES_1 │\n",
       "│ \u001b[1;92m23:21:22\u001b[0m   ┆            ┆ db/2b/1a6f ┆         ┆ \u001b[1;36m18.0\u001b[0m-py3-n ┆ \u001b[1;36m4.1\u001b[0m.\u001b[1;36m1\u001b[0m\"\u001b[1m}\u001b[0m,\"\u001b[1;36m3\u001b[0m ┆           ┆ 28_GCM_SH │\n",
       "│ UTC        ┆            ┆ 24002485d1 ┆         ┆ one-any.wh ┆ .\u001b[1;36m8.15\u001b[0m\",\u001b[1m{\u001b[0m\"C ┆           ┆ A256      │\n",
       "│            ┆            ┆ …          ┆         ┆ …          ┆ …          ┆           ┆           │\n",
       "└────────────┴────────────┴────────────┴─────────┴────────────┴────────────┴───────────┴───────────┘"
      ]
     },
     "execution_count": 30,
     "metadata": {},
     "output_type": "execute_result"
    }
   ],
   "source": [
    "pypi_kedro_raw = catalog.load(\"pypi_kedro_raw\")\n",
    "pypi_kedro_raw.head()"
   ]
  },
  {
   "cell_type": "markdown",
   "metadata": {},
   "source": [
    "### b) Returning a lazy view of the dataset thanks to Ibis\n",
    "\n",
    "Kedro recently introduced support for Ibis thanks to its `kedro_datasets.ibis.TableDataset` ([documentation](https://docs.kedro.org/projects/kedro-datasets/en/kedro-datasets-4.0.0/api/kedro_datasets.ibis.TableDataset.html)), which allows you to leverage the rich ecosystem of SQL backends that Ibis has."
   ]
  },
  {
   "cell_type": "code",
   "execution_count": 31,
   "metadata": {},
   "outputs": [
    {
     "name": "stdout",
     "output_type": "stream",
     "text": [
      "Overwriting catalog.yml\n"
     ]
    }
   ],
   "source": [
    "%%writefile catalog.yml\n",
    "pypi_kedro_raw_lazy:\n",
    "  type: ibis.TableDataset\n",
    "  table_name: file_downloads\n",
    "  connection:\n",
    "    backend: bigquery\n",
    "    dataset_id: bigquery-public-data.pypi"
   ]
  },
  {
   "cell_type": "code",
   "execution_count": 32,
   "metadata": {},
   "outputs": [
    {
     "data": {
      "text/plain": [
       "['pypi_kedro_raw_lazy']"
      ]
     },
     "execution_count": 32,
     "metadata": {},
     "output_type": "execute_result"
    }
   ],
   "source": [
    "catalog = DataCatalog.from_config(config_loader.get(\"catalog\"))\n",
    "catalog.list()"
   ]
  },
  {
   "cell_type": "code",
   "execution_count": 33,
   "metadata": {},
   "outputs": [
    {
     "name": "stderr",
     "output_type": "stream",
     "text": [
      "WARNING: All log messages before absl::InitializeLog() is called are written to STDERR\n",
      "I0000 00:00:1722581971.800550   36485 config.cc:230] gRPC experiments enabled: call_status_override_on_cancellation, event_engine_dns, event_engine_listener, http2_stats_fix, monitoring_experiment, pick_first_new, trace_record_callops, work_serializer_clears_time_cache\n",
      "I0000 00:00:1722581971.823424   36485 check_gcp_environment_no_op.cc:29] ALTS: Platforms other than Linux and Windows are not supported\n"
     ]
    },
    {
     "data": {
      "text/html": [
       "<pre style=\"white-space:pre;overflow-x:auto;line-height:normal;font-family:Menlo,'DejaVu Sans Mono',consolas,'Courier New',monospace\">r0 := DatabaseTable: bigquery-public-data.pypi.file_downloads\n",
       "  timestamp    !timestamp('UTC')\n",
       "  country_code string\n",
       "  url          !string\n",
       "  project      !string\n",
       "  file         filename: string\n",
       "  project:  string\n",
       "  version:  string\n",
       "  type:     string\n",
       "  details      installer:          name:    string\n",
       "  version: string\n",
       "  python:             string\n",
       "  implementation:     name:    string\n",
       "  version: string\n",
       "  distro:             name:    string\n",
       "  version: string\n",
       "  id:      string\n",
       "  libc:    lib:     string\n",
       "  version: string\n",
       "  system:             name:    string\n",
       "  release: string\n",
       "  cpu:                string\n",
       "  openssl_version:    string\n",
       "  setuptools_version: string\n",
       "  rustc_version:      string\n",
       "  ci:                 boolean\n",
       "  tls_protocol string\n",
       "  tls_cipher   string\n",
       "\n",
       "Limit[r0, n=5]\n",
       "</pre>\n"
      ],
      "text/plain": [
       "r0 := DatabaseTable: bigquery-public-data.pypi.file_downloads\n",
       "  timestamp    !timestamp('UTC')\n",
       "  country_code string\n",
       "  url          !string\n",
       "  project      !string\n",
       "  file         filename: string\n",
       "  project:  string\n",
       "  version:  string\n",
       "  type:     string\n",
       "  details      installer:          name:    string\n",
       "  version: string\n",
       "  python:             string\n",
       "  implementation:     name:    string\n",
       "  version: string\n",
       "  distro:             name:    string\n",
       "  version: string\n",
       "  id:      string\n",
       "  libc:    lib:     string\n",
       "  version: string\n",
       "  system:             name:    string\n",
       "  release: string\n",
       "  cpu:                string\n",
       "  openssl_version:    string\n",
       "  setuptools_version: string\n",
       "  rustc_version:      string\n",
       "  ci:                 boolean\n",
       "  tls_protocol string\n",
       "  tls_cipher   string\n",
       "\n",
       "Limit[r0, n=5]"
      ]
     },
     "execution_count": 33,
     "metadata": {},
     "output_type": "execute_result"
    }
   ],
   "source": [
    "pypi_kedro_raw_lazy = catalog.load(\"pypi_kedro_raw_lazy\")\n",
    "pypi_kedro_raw_lazy.head()"
   ]
  },
  {
   "cell_type": "markdown",
   "metadata": {},
   "source": [
    "With Ibis, table manipulation happens in a way that's familiar for SQL and Python users, and a SQL query is generated under the hood:"
   ]
  },
  {
   "cell_type": "code",
   "execution_count": 34,
   "metadata": {},
   "outputs": [],
   "source": [
    "import ibis"
   ]
  },
  {
   "cell_type": "code",
   "execution_count": 35,
   "metadata": {},
   "outputs": [],
   "source": [
    "final_table = (\n",
    "    pypi_kedro_raw_lazy\n",
    "    .filter([\n",
    "        pypi_kedro_raw_lazy.project == \"kedro\",\n",
    "        ibis.timestamp(\"2024-07-01\", timezone=\"UTC\") <= pypi_kedro_raw_lazy.timestamp,\n",
    "        pypi_kedro_raw_lazy.timestamp < ibis.timestamp(\"2024-07-02\", timezone=\"UTC\"),\n",
    "    ])\n",
    "    .head(5)\n",
    ")"
   ]
  },
  {
   "cell_type": "code",
   "execution_count": 36,
   "metadata": {},
   "outputs": [
    {
     "data": {
      "text/markdown": [
       "```sql\n",
       "SELECT\n",
       "  *\n",
       "FROM `bigquery-public-data`.`pypi`.`file_downloads` AS `t0`\n",
       "WHERE\n",
       "  `t0`.`project` = 'kedro'\n",
       "  AND TIMESTAMP('2024-07-01T00:00:00+00:00') <= `t0`.`timestamp`\n",
       "  AND `t0`.`timestamp` < TIMESTAMP('2024-07-02T00:00:00+00:00')\n",
       "LIMIT 5\n",
       "```"
      ],
      "text/plain": [
       "\u001b[34mSELECT\u001b[39;49;00m\u001b[37m\u001b[39;49;00m\n",
       "\u001b[37m  \u001b[39;49;00m*\u001b[37m\u001b[39;49;00m\n",
       "\u001b[34mFROM\u001b[39;49;00m\u001b[37m \u001b[39;49;00m`bigquery-\u001b[34mpublic\u001b[39;49;00m-\u001b[34mdata\u001b[39;49;00m`.`pypi`.`file_downloads`\u001b[37m \u001b[39;49;00m\u001b[34mAS\u001b[39;49;00m\u001b[37m \u001b[39;49;00m`t0`\u001b[37m\u001b[39;49;00m\n",
       "\u001b[34mWHERE\u001b[39;49;00m\u001b[37m\u001b[39;49;00m\n",
       "\u001b[37m  \u001b[39;49;00m`t0`.`project`\u001b[37m \u001b[39;49;00m=\u001b[37m \u001b[39;49;00m\u001b[33m'kedro'\u001b[39;49;00m\u001b[37m\u001b[39;49;00m\n",
       "\u001b[37m  \u001b[39;49;00m\u001b[34mAND\u001b[39;49;00m\u001b[37m \u001b[39;49;00m\u001b[34mTIMESTAMP\u001b[39;49;00m(\u001b[33m'2024-07-01T00:00:00+00:00'\u001b[39;49;00m)\u001b[37m \u001b[39;49;00m<=\u001b[37m \u001b[39;49;00m`t0`.`\u001b[34mtimestamp\u001b[39;49;00m`\u001b[37m\u001b[39;49;00m\n",
       "\u001b[37m  \u001b[39;49;00m\u001b[34mAND\u001b[39;49;00m\u001b[37m \u001b[39;49;00m`t0`.`\u001b[34mtimestamp\u001b[39;49;00m`\u001b[37m \u001b[39;49;00m<\u001b[37m \u001b[39;49;00m\u001b[34mTIMESTAMP\u001b[39;49;00m(\u001b[33m'2024-07-02T00:00:00+00:00'\u001b[39;49;00m)\u001b[37m\u001b[39;49;00m\n",
       "\u001b[34mLIMIT\u001b[39;49;00m\u001b[37m \u001b[39;49;00m\u001b[34m5\u001b[39;49;00m\u001b[37m\u001b[39;49;00m"
      ]
     },
     "execution_count": 36,
     "metadata": {},
     "output_type": "execute_result"
    }
   ],
   "source": [
    "ibis.to_sql(final_table)"
   ]
  },
  {
   "cell_type": "markdown",
   "metadata": {},
   "source": [
    "Finally, you can return the result of your query using the `.to_polars()` method:"
   ]
  },
  {
   "cell_type": "code",
   "execution_count": 37,
   "metadata": {},
   "outputs": [
    {
     "data": {
      "text/html": [
       "<div><style>\n",
       ".dataframe > thead > tr,\n",
       ".dataframe > tbody > tr {\n",
       "  text-align: right;\n",
       "  white-space: pre-wrap;\n",
       "}\n",
       "</style>\n",
       "<small>shape: (5, 8)</small><table border=\"1\" class=\"dataframe\"><thead><tr><th>timestamp</th><th>country_code</th><th>url</th><th>project</th><th>file</th><th>details</th><th>tls_protocol</th><th>tls_cipher</th></tr><tr><td>datetime[ns, UTC]</td><td>str</td><td>str</td><td>str</td><td>struct[4]</td><td>struct[10]</td><td>str</td><td>str</td></tr></thead><tbody><tr><td>2024-07-01 23:32:58 UTC</td><td>&quot;US&quot;</td><td>&quot;/packages/d5/0e/4009cbb8d0d391…</td><td>&quot;kedro&quot;</td><td>{&quot;kedro-0.17.7-py3-none-any.whl&quot;,&quot;kedro&quot;,&quot;0.17.7&quot;,&quot;bdist_wheel&quot;}</td><td>{{&quot;pip&quot;,&quot;22.0.3&quot;},&quot;3.8.5&quot;,{&quot;CPython&quot;,&quot;3.8.5&quot;},{&quot;Amazon Linux&quot;,&quot;2&quot;,null,{&quot;glibc&quot;,&quot;2.26&quot;}},{&quot;Linux&quot;,&quot;4.14.262-200.489.amzn2.x86_64&quot;},&quot;x86_64&quot;,&quot;OpenSSL 1.0.2k-fips  26 Jan 2017&quot;,&quot;60.6.0&quot;,null,null}</td><td>&quot;TLSv1.2&quot;</td><td>&quot;ECDHE-RSA-AES128-GCM-SHA256&quot;</td></tr><tr><td>2024-07-01 23:33:01 UTC</td><td>&quot;US&quot;</td><td>&quot;/packages/d5/0e/4009cbb8d0d391…</td><td>&quot;kedro&quot;</td><td>{&quot;kedro-0.17.7-py3-none-any.whl&quot;,&quot;kedro&quot;,&quot;0.17.7&quot;,&quot;bdist_wheel&quot;}</td><td>{{&quot;pip&quot;,&quot;22.0.3&quot;},&quot;3.8.5&quot;,{&quot;CPython&quot;,&quot;3.8.5&quot;},{&quot;Amazon Linux&quot;,&quot;2&quot;,null,{&quot;glibc&quot;,&quot;2.26&quot;}},{&quot;Linux&quot;,&quot;4.14.262-200.489.amzn2.x86_64&quot;},&quot;x86_64&quot;,&quot;OpenSSL 1.0.2k-fips  26 Jan 2017&quot;,&quot;60.6.0&quot;,null,null}</td><td>&quot;TLSv1.2&quot;</td><td>&quot;ECDHE-RSA-AES128-GCM-SHA256&quot;</td></tr><tr><td>2024-07-01 23:30:20 UTC</td><td>&quot;US&quot;</td><td>&quot;/packages/d5/0e/4009cbb8d0d391…</td><td>&quot;kedro&quot;</td><td>{&quot;kedro-0.17.7-py3-none-any.whl&quot;,&quot;kedro&quot;,&quot;0.17.7&quot;,&quot;bdist_wheel&quot;}</td><td>{{&quot;pip&quot;,&quot;22.0.3&quot;},&quot;3.8.5&quot;,{&quot;CPython&quot;,&quot;3.8.5&quot;},{&quot;Amazon Linux&quot;,&quot;2&quot;,null,{&quot;glibc&quot;,&quot;2.26&quot;}},{&quot;Linux&quot;,&quot;4.14.262-200.489.amzn2.x86_64&quot;},&quot;x86_64&quot;,&quot;OpenSSL 1.0.2k-fips  26 Jan 2017&quot;,&quot;60.6.0&quot;,null,null}</td><td>&quot;TLSv1.2&quot;</td><td>&quot;ECDHE-RSA-AES128-GCM-SHA256&quot;</td></tr><tr><td>2024-07-01 23:33:48 UTC</td><td>&quot;US&quot;</td><td>&quot;/packages/d5/0e/4009cbb8d0d391…</td><td>&quot;kedro&quot;</td><td>{&quot;kedro-0.17.7-py3-none-any.whl&quot;,&quot;kedro&quot;,&quot;0.17.7&quot;,&quot;bdist_wheel&quot;}</td><td>{{&quot;pip&quot;,&quot;22.0.3&quot;},&quot;3.8.5&quot;,{&quot;CPython&quot;,&quot;3.8.5&quot;},{&quot;Amazon Linux&quot;,&quot;2&quot;,null,{&quot;glibc&quot;,&quot;2.26&quot;}},{&quot;Linux&quot;,&quot;4.14.262-200.489.amzn2.x86_64&quot;},&quot;x86_64&quot;,&quot;OpenSSL 1.0.2k-fips  26 Jan 2017&quot;,&quot;60.6.0&quot;,null,null}</td><td>&quot;TLSv1.2&quot;</td><td>&quot;ECDHE-RSA-AES128-GCM-SHA256&quot;</td></tr><tr><td>2024-07-01 23:21:22 UTC</td><td>&quot;US&quot;</td><td>&quot;/packages/db/2b/1a6f24002485d1…</td><td>&quot;kedro&quot;</td><td>{&quot;kedro-0.18.0-py3-none-any.whl&quot;,&quot;kedro&quot;,&quot;0.18.0&quot;,&quot;bdist_wheel&quot;}</td><td>{{&quot;pip&quot;,&quot;24.1.1&quot;},&quot;3.8.15&quot;,{&quot;CPython&quot;,&quot;3.8.15&quot;},{&quot;Debian GNU/Linux&quot;,&quot;10&quot;,&quot;buster&quot;,{&quot;glibc&quot;,&quot;2.28&quot;}},{&quot;Linux&quot;,&quot;5.10.0-0.deb10.16-amd64&quot;},&quot;x86_64&quot;,&quot;OpenSSL 1.1.1u  30 May 2023&quot;,&quot;59.8.0&quot;,null,null}</td><td>&quot;TLSv1.3&quot;</td><td>&quot;TLS_AES_128_GCM_SHA256&quot;</td></tr></tbody></table></div>"
      ],
      "text/plain": [
       "shape: (5, 8)\n",
       "┌────────────┬────────────┬────────────┬─────────┬────────────┬────────────┬───────────┬───────────┐\n",
       "│ timestamp  ┆ country_co ┆ url        ┆ project ┆ file       ┆ details    ┆ tls_proto ┆ tls_ciphe │\n",
       "│ ---        ┆ de         ┆ ---        ┆ ---     ┆ ---        ┆ ---        ┆ col       ┆ r         │\n",
       "│ datetime[n ┆ ---        ┆ str        ┆ str     ┆ struct[4]  ┆ struct[10] ┆ ---       ┆ ---       │\n",
       "│ s, UTC]    ┆ str        ┆            ┆         ┆            ┆            ┆ str       ┆ str       │\n",
       "╞════════════╪════════════╪════════════╪═════════╪════════════╪════════════╪═══════════╪═══════════╡\n",
       "│ 2024-07-01 ┆ US         ┆ /packages/ ┆ kedro   ┆ {\"kedro-0. ┆ {{\"pip\",\"2 ┆ TLSv1.2   ┆ ECDHE-RSA │\n",
       "│ 23:32:58   ┆            ┆ d5/0e/4009 ┆         ┆ 17.7-py3-n ┆ 2.0.3\"},\"3 ┆           ┆ -AES128-G │\n",
       "│ UTC        ┆            ┆ cbb8d0d391 ┆         ┆ one-any.wh ┆ .8.5\",{\"CP ┆           ┆ CM-SHA256 │\n",
       "│            ┆            ┆ …          ┆         ┆ …          ┆ …          ┆           ┆           │\n",
       "│ 2024-07-01 ┆ US         ┆ /packages/ ┆ kedro   ┆ {\"kedro-0. ┆ {{\"pip\",\"2 ┆ TLSv1.2   ┆ ECDHE-RSA │\n",
       "│ 23:33:01   ┆            ┆ d5/0e/4009 ┆         ┆ 17.7-py3-n ┆ 2.0.3\"},\"3 ┆           ┆ -AES128-G │\n",
       "│ UTC        ┆            ┆ cbb8d0d391 ┆         ┆ one-any.wh ┆ .8.5\",{\"CP ┆           ┆ CM-SHA256 │\n",
       "│            ┆            ┆ …          ┆         ┆ …          ┆ …          ┆           ┆           │\n",
       "│ 2024-07-01 ┆ US         ┆ /packages/ ┆ kedro   ┆ {\"kedro-0. ┆ {{\"pip\",\"2 ┆ TLSv1.2   ┆ ECDHE-RSA │\n",
       "│ 23:30:20   ┆            ┆ d5/0e/4009 ┆         ┆ 17.7-py3-n ┆ 2.0.3\"},\"3 ┆           ┆ -AES128-G │\n",
       "│ UTC        ┆            ┆ cbb8d0d391 ┆         ┆ one-any.wh ┆ .8.5\",{\"CP ┆           ┆ CM-SHA256 │\n",
       "│            ┆            ┆ …          ┆         ┆ …          ┆ …          ┆           ┆           │\n",
       "│ 2024-07-01 ┆ US         ┆ /packages/ ┆ kedro   ┆ {\"kedro-0. ┆ {{\"pip\",\"2 ┆ TLSv1.2   ┆ ECDHE-RSA │\n",
       "│ 23:33:48   ┆            ┆ d5/0e/4009 ┆         ┆ 17.7-py3-n ┆ 2.0.3\"},\"3 ┆           ┆ -AES128-G │\n",
       "│ UTC        ┆            ┆ cbb8d0d391 ┆         ┆ one-any.wh ┆ .8.5\",{\"CP ┆           ┆ CM-SHA256 │\n",
       "│            ┆            ┆ …          ┆         ┆ …          ┆ …          ┆           ┆           │\n",
       "│ 2024-07-01 ┆ US         ┆ /packages/ ┆ kedro   ┆ {\"kedro-0. ┆ {{\"pip\",\"2 ┆ TLSv1.3   ┆ TLS_AES_1 │\n",
       "│ 23:21:22   ┆            ┆ db/2b/1a6f ┆         ┆ 18.0-py3-n ┆ 4.1.1\"},\"3 ┆           ┆ 28_GCM_SH │\n",
       "│ UTC        ┆            ┆ 24002485d1 ┆         ┆ one-any.wh ┆ .8.15\",{\"C ┆           ┆ A256      │\n",
       "│            ┆            ┆ …          ┆         ┆ …          ┆ …          ┆           ┆           │\n",
       "└────────────┴────────────┴────────────┴─────────┴────────────┴────────────┴───────────┴───────────┘"
      ]
     },
     "execution_count": 37,
     "metadata": {},
     "output_type": "execute_result"
    }
   ],
   "source": [
    "final_table.to_polars()"
   ]
  }
 ],
 "metadata": {
  "application/vnd.databricks.v1+notebook": {
   "dashboards": [],
   "environmentMetadata": null,
   "language": "python",
   "notebookMetadata": {
    "mostRecentlyExecutedCommandWithImplicitDF": {
     "commandId": 4172678518454607,
     "dataframes": [
      "_sqldf"
     ]
    },
    "pythonIndentUnit": 4
   },
   "notebookName": "First Steps with Kedro on Databricks",
   "widgets": {}
  },
  "kernelspec": {
   "display_name": "Python 3 (ipykernel)",
   "language": "python",
   "name": "python3"
  },
  "language_info": {
   "codemirror_mode": {
    "name": "ipython",
    "version": 3
   },
   "file_extension": ".py",
   "mimetype": "text/x-python",
   "name": "python",
   "nbconvert_exporter": "python",
   "pygments_lexer": "ipython3",
   "version": "3.11.9"
  }
 },
 "nbformat": 4,
 "nbformat_minor": 4
}
